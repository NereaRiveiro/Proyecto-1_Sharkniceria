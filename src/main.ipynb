{
 "cells": [
  {
   "attachments": {},
   "cell_type": "markdown",
   "metadata": {},
   "source": [
    "**Proyecto de limpieza Sharks"
   ]
  },
  {
   "attachments": {},
   "cell_type": "markdown",
   "metadata": {},
   "source": [
    "Ya tengo las librerías instaladas pero en caso contrario se haría:\n",
    "\n",
    "- pip install\n",
    "\n",
    "Llamo a las librerias que usaremos y quito el aviso de warnings"
   ]
  },
  {
   "cell_type": "code",
   "execution_count": 850,
   "metadata": {},
   "outputs": [],
   "source": [
    "import pandas as pd\n",
    "import numpy as np\n",
    "from funciones import *\n",
    "\n",
    "import warnings\n",
    "warnings.filterwarnings('ignore')"
   ]
  },
  {
   "attachments": {},
   "cell_type": "markdown",
   "metadata": {},
   "source": [
    "Abrimos el archivo .csv como DataFrame\n",
    "\n",
    "Me da un error en la codificación! Lo soluciono cambiando la codificación al formato adecuado.\n",
    "\n",
    "Echamos un vistazo general al df para ver qué tenemos tanto los 1os de arriba como los ults.\n"
   ]
  },
  {
   "cell_type": "code",
   "execution_count": 851,
   "metadata": {},
   "outputs": [
    {
     "data": {
      "text/html": [
       "<div>\n",
       "<style scoped>\n",
       "    .dataframe tbody tr th:only-of-type {\n",
       "        vertical-align: middle;\n",
       "    }\n",
       "\n",
       "    .dataframe tbody tr th {\n",
       "        vertical-align: top;\n",
       "    }\n",
       "\n",
       "    .dataframe thead th {\n",
       "        text-align: right;\n",
       "    }\n",
       "</style>\n",
       "<table border=\"1\" class=\"dataframe\">\n",
       "  <thead>\n",
       "    <tr style=\"text-align: right;\">\n",
       "      <th></th>\n",
       "      <th>Case Number</th>\n",
       "      <th>Date</th>\n",
       "      <th>Year</th>\n",
       "      <th>Type</th>\n",
       "      <th>Country</th>\n",
       "      <th>Area</th>\n",
       "      <th>Location</th>\n",
       "      <th>Activity</th>\n",
       "      <th>Name</th>\n",
       "      <th>Sex</th>\n",
       "      <th>...</th>\n",
       "      <th>Species</th>\n",
       "      <th>Investigator or Source</th>\n",
       "      <th>pdf</th>\n",
       "      <th>href formula</th>\n",
       "      <th>href</th>\n",
       "      <th>Case Number.1</th>\n",
       "      <th>Case Number.2</th>\n",
       "      <th>original order</th>\n",
       "      <th>Unnamed: 22</th>\n",
       "      <th>Unnamed: 23</th>\n",
       "    </tr>\n",
       "  </thead>\n",
       "  <tbody>\n",
       "    <tr>\n",
       "      <th>0</th>\n",
       "      <td>2018.06.25</td>\n",
       "      <td>25-Jun-2018</td>\n",
       "      <td>2018.0</td>\n",
       "      <td>Boating</td>\n",
       "      <td>USA</td>\n",
       "      <td>California</td>\n",
       "      <td>Oceanside, San Diego County</td>\n",
       "      <td>Paddling</td>\n",
       "      <td>Julie Wolfe</td>\n",
       "      <td>F</td>\n",
       "      <td>...</td>\n",
       "      <td>White shark</td>\n",
       "      <td>R. Collier, GSAF</td>\n",
       "      <td>2018.06.25-Wolfe.pdf</td>\n",
       "      <td>http://sharkattackfile.net/spreadsheets/pdf_di...</td>\n",
       "      <td>http://sharkattackfile.net/spreadsheets/pdf_di...</td>\n",
       "      <td>2018.06.25</td>\n",
       "      <td>2018.06.25</td>\n",
       "      <td>6303.0</td>\n",
       "      <td>NaN</td>\n",
       "      <td>NaN</td>\n",
       "    </tr>\n",
       "    <tr>\n",
       "      <th>1</th>\n",
       "      <td>2018.06.18</td>\n",
       "      <td>18-Jun-2018</td>\n",
       "      <td>2018.0</td>\n",
       "      <td>Unprovoked</td>\n",
       "      <td>USA</td>\n",
       "      <td>Georgia</td>\n",
       "      <td>St. Simon Island, Glynn County</td>\n",
       "      <td>Standing</td>\n",
       "      <td>Adyson McNeely</td>\n",
       "      <td>F</td>\n",
       "      <td>...</td>\n",
       "      <td>NaN</td>\n",
       "      <td>K.McMurray, TrackingSharks.com</td>\n",
       "      <td>2018.06.18-McNeely.pdf</td>\n",
       "      <td>http://sharkattackfile.net/spreadsheets/pdf_di...</td>\n",
       "      <td>http://sharkattackfile.net/spreadsheets/pdf_di...</td>\n",
       "      <td>2018.06.18</td>\n",
       "      <td>2018.06.18</td>\n",
       "      <td>6302.0</td>\n",
       "      <td>NaN</td>\n",
       "      <td>NaN</td>\n",
       "    </tr>\n",
       "    <tr>\n",
       "      <th>2</th>\n",
       "      <td>2018.06.09</td>\n",
       "      <td>09-Jun-2018</td>\n",
       "      <td>2018.0</td>\n",
       "      <td>Invalid</td>\n",
       "      <td>USA</td>\n",
       "      <td>Hawaii</td>\n",
       "      <td>Habush, Oahu</td>\n",
       "      <td>Surfing</td>\n",
       "      <td>John Denges</td>\n",
       "      <td>M</td>\n",
       "      <td>...</td>\n",
       "      <td>NaN</td>\n",
       "      <td>K.McMurray, TrackingSharks.com</td>\n",
       "      <td>2018.06.09-Denges.pdf</td>\n",
       "      <td>http://sharkattackfile.net/spreadsheets/pdf_di...</td>\n",
       "      <td>http://sharkattackfile.net/spreadsheets/pdf_di...</td>\n",
       "      <td>2018.06.09</td>\n",
       "      <td>2018.06.09</td>\n",
       "      <td>6301.0</td>\n",
       "      <td>NaN</td>\n",
       "      <td>NaN</td>\n",
       "    </tr>\n",
       "    <tr>\n",
       "      <th>3</th>\n",
       "      <td>2018.06.08</td>\n",
       "      <td>08-Jun-2018</td>\n",
       "      <td>2018.0</td>\n",
       "      <td>Unprovoked</td>\n",
       "      <td>AUSTRALIA</td>\n",
       "      <td>New South Wales</td>\n",
       "      <td>Arrawarra Headland</td>\n",
       "      <td>Surfing</td>\n",
       "      <td>male</td>\n",
       "      <td>M</td>\n",
       "      <td>...</td>\n",
       "      <td>2 m shark</td>\n",
       "      <td>B. Myatt, GSAF</td>\n",
       "      <td>2018.06.08-Arrawarra.pdf</td>\n",
       "      <td>http://sharkattackfile.net/spreadsheets/pdf_di...</td>\n",
       "      <td>http://sharkattackfile.net/spreadsheets/pdf_di...</td>\n",
       "      <td>2018.06.08</td>\n",
       "      <td>2018.06.08</td>\n",
       "      <td>6300.0</td>\n",
       "      <td>NaN</td>\n",
       "      <td>NaN</td>\n",
       "    </tr>\n",
       "    <tr>\n",
       "      <th>4</th>\n",
       "      <td>2018.06.04</td>\n",
       "      <td>04-Jun-2018</td>\n",
       "      <td>2018.0</td>\n",
       "      <td>Provoked</td>\n",
       "      <td>MEXICO</td>\n",
       "      <td>Colima</td>\n",
       "      <td>La Ticla</td>\n",
       "      <td>Free diving</td>\n",
       "      <td>Gustavo Ramos</td>\n",
       "      <td>M</td>\n",
       "      <td>...</td>\n",
       "      <td>Tiger shark, 3m</td>\n",
       "      <td>A .Kipper</td>\n",
       "      <td>2018.06.04-Ramos.pdf</td>\n",
       "      <td>http://sharkattackfile.net/spreadsheets/pdf_di...</td>\n",
       "      <td>http://sharkattackfile.net/spreadsheets/pdf_di...</td>\n",
       "      <td>2018.06.04</td>\n",
       "      <td>2018.06.04</td>\n",
       "      <td>6299.0</td>\n",
       "      <td>NaN</td>\n",
       "      <td>NaN</td>\n",
       "    </tr>\n",
       "  </tbody>\n",
       "</table>\n",
       "<p>5 rows × 24 columns</p>\n",
       "</div>"
      ],
      "text/plain": [
       "  Case Number         Date    Year        Type    Country             Area   \n",
       "0  2018.06.25  25-Jun-2018  2018.0     Boating        USA       California  \\\n",
       "1  2018.06.18  18-Jun-2018  2018.0  Unprovoked        USA          Georgia   \n",
       "2  2018.06.09  09-Jun-2018  2018.0     Invalid        USA           Hawaii   \n",
       "3  2018.06.08  08-Jun-2018  2018.0  Unprovoked  AUSTRALIA  New South Wales   \n",
       "4  2018.06.04  04-Jun-2018  2018.0    Provoked     MEXICO           Colima   \n",
       "\n",
       "                         Location     Activity             Name Sex   ...   \n",
       "0     Oceanside, San Diego County     Paddling      Julie Wolfe    F  ...  \\\n",
       "1  St. Simon Island, Glynn County     Standing  Adyson McNeely     F  ...   \n",
       "2                    Habush, Oahu      Surfing      John Denges    M  ...   \n",
       "3              Arrawarra Headland      Surfing             male    M  ...   \n",
       "4                        La Ticla  Free diving   Gustavo Ramos     M  ...   \n",
       "\n",
       "          Species           Investigator or Source                       pdf   \n",
       "0      White shark                R. Collier, GSAF      2018.06.25-Wolfe.pdf  \\\n",
       "1              NaN  K.McMurray, TrackingSharks.com    2018.06.18-McNeely.pdf   \n",
       "2              NaN  K.McMurray, TrackingSharks.com     2018.06.09-Denges.pdf   \n",
       "3        2 m shark                  B. Myatt, GSAF  2018.06.08-Arrawarra.pdf   \n",
       "4  Tiger shark, 3m                       A .Kipper      2018.06.04-Ramos.pdf   \n",
       "\n",
       "                                        href formula   \n",
       "0  http://sharkattackfile.net/spreadsheets/pdf_di...  \\\n",
       "1  http://sharkattackfile.net/spreadsheets/pdf_di...   \n",
       "2  http://sharkattackfile.net/spreadsheets/pdf_di...   \n",
       "3  http://sharkattackfile.net/spreadsheets/pdf_di...   \n",
       "4  http://sharkattackfile.net/spreadsheets/pdf_di...   \n",
       "\n",
       "                                                href Case Number.1   \n",
       "0  http://sharkattackfile.net/spreadsheets/pdf_di...    2018.06.25  \\\n",
       "1  http://sharkattackfile.net/spreadsheets/pdf_di...    2018.06.18   \n",
       "2  http://sharkattackfile.net/spreadsheets/pdf_di...    2018.06.09   \n",
       "3  http://sharkattackfile.net/spreadsheets/pdf_di...    2018.06.08   \n",
       "4  http://sharkattackfile.net/spreadsheets/pdf_di...    2018.06.04   \n",
       "\n",
       "  Case Number.2 original order Unnamed: 22 Unnamed: 23  \n",
       "0    2018.06.25         6303.0         NaN         NaN  \n",
       "1    2018.06.18         6302.0         NaN         NaN  \n",
       "2    2018.06.09         6301.0         NaN         NaN  \n",
       "3    2018.06.08         6300.0         NaN         NaN  \n",
       "4    2018.06.04         6299.0         NaN         NaN  \n",
       "\n",
       "[5 rows x 24 columns]"
      ]
     },
     "execution_count": 851,
     "metadata": {},
     "output_type": "execute_result"
    }
   ],
   "source": [
    "shark_orig = pd.read_csv('../data/attacks.csv', encoding='iso-8859-1')\n",
    "\n",
    "shark_orig.head()"
   ]
  },
  {
   "cell_type": "code",
   "execution_count": 852,
   "metadata": {},
   "outputs": [
    {
     "data": {
      "text/html": [
       "<div>\n",
       "<style scoped>\n",
       "    .dataframe tbody tr th:only-of-type {\n",
       "        vertical-align: middle;\n",
       "    }\n",
       "\n",
       "    .dataframe tbody tr th {\n",
       "        vertical-align: top;\n",
       "    }\n",
       "\n",
       "    .dataframe thead th {\n",
       "        text-align: right;\n",
       "    }\n",
       "</style>\n",
       "<table border=\"1\" class=\"dataframe\">\n",
       "  <thead>\n",
       "    <tr style=\"text-align: right;\">\n",
       "      <th></th>\n",
       "      <th>Case Number</th>\n",
       "      <th>Date</th>\n",
       "      <th>Year</th>\n",
       "      <th>Type</th>\n",
       "      <th>Country</th>\n",
       "      <th>Area</th>\n",
       "      <th>Location</th>\n",
       "      <th>Activity</th>\n",
       "      <th>Name</th>\n",
       "      <th>Sex</th>\n",
       "      <th>...</th>\n",
       "      <th>Species</th>\n",
       "      <th>Investigator or Source</th>\n",
       "      <th>pdf</th>\n",
       "      <th>href formula</th>\n",
       "      <th>href</th>\n",
       "      <th>Case Number.1</th>\n",
       "      <th>Case Number.2</th>\n",
       "      <th>original order</th>\n",
       "      <th>Unnamed: 22</th>\n",
       "      <th>Unnamed: 23</th>\n",
       "    </tr>\n",
       "  </thead>\n",
       "  <tbody>\n",
       "    <tr>\n",
       "      <th>25718</th>\n",
       "      <td>NaN</td>\n",
       "      <td>NaN</td>\n",
       "      <td>NaN</td>\n",
       "      <td>NaN</td>\n",
       "      <td>NaN</td>\n",
       "      <td>NaN</td>\n",
       "      <td>NaN</td>\n",
       "      <td>NaN</td>\n",
       "      <td>NaN</td>\n",
       "      <td>NaN</td>\n",
       "      <td>...</td>\n",
       "      <td>NaN</td>\n",
       "      <td>NaN</td>\n",
       "      <td>NaN</td>\n",
       "      <td>NaN</td>\n",
       "      <td>NaN</td>\n",
       "      <td>NaN</td>\n",
       "      <td>NaN</td>\n",
       "      <td>NaN</td>\n",
       "      <td>NaN</td>\n",
       "      <td>NaN</td>\n",
       "    </tr>\n",
       "    <tr>\n",
       "      <th>25719</th>\n",
       "      <td>NaN</td>\n",
       "      <td>NaN</td>\n",
       "      <td>NaN</td>\n",
       "      <td>NaN</td>\n",
       "      <td>NaN</td>\n",
       "      <td>NaN</td>\n",
       "      <td>NaN</td>\n",
       "      <td>NaN</td>\n",
       "      <td>NaN</td>\n",
       "      <td>NaN</td>\n",
       "      <td>...</td>\n",
       "      <td>NaN</td>\n",
       "      <td>NaN</td>\n",
       "      <td>NaN</td>\n",
       "      <td>NaN</td>\n",
       "      <td>NaN</td>\n",
       "      <td>NaN</td>\n",
       "      <td>NaN</td>\n",
       "      <td>NaN</td>\n",
       "      <td>NaN</td>\n",
       "      <td>NaN</td>\n",
       "    </tr>\n",
       "    <tr>\n",
       "      <th>25720</th>\n",
       "      <td>NaN</td>\n",
       "      <td>NaN</td>\n",
       "      <td>NaN</td>\n",
       "      <td>NaN</td>\n",
       "      <td>NaN</td>\n",
       "      <td>NaN</td>\n",
       "      <td>NaN</td>\n",
       "      <td>NaN</td>\n",
       "      <td>NaN</td>\n",
       "      <td>NaN</td>\n",
       "      <td>...</td>\n",
       "      <td>NaN</td>\n",
       "      <td>NaN</td>\n",
       "      <td>NaN</td>\n",
       "      <td>NaN</td>\n",
       "      <td>NaN</td>\n",
       "      <td>NaN</td>\n",
       "      <td>NaN</td>\n",
       "      <td>NaN</td>\n",
       "      <td>NaN</td>\n",
       "      <td>NaN</td>\n",
       "    </tr>\n",
       "    <tr>\n",
       "      <th>25721</th>\n",
       "      <td>NaN</td>\n",
       "      <td>NaN</td>\n",
       "      <td>NaN</td>\n",
       "      <td>NaN</td>\n",
       "      <td>NaN</td>\n",
       "      <td>NaN</td>\n",
       "      <td>NaN</td>\n",
       "      <td>NaN</td>\n",
       "      <td>NaN</td>\n",
       "      <td>NaN</td>\n",
       "      <td>...</td>\n",
       "      <td>NaN</td>\n",
       "      <td>NaN</td>\n",
       "      <td>NaN</td>\n",
       "      <td>NaN</td>\n",
       "      <td>NaN</td>\n",
       "      <td>NaN</td>\n",
       "      <td>NaN</td>\n",
       "      <td>NaN</td>\n",
       "      <td>NaN</td>\n",
       "      <td>NaN</td>\n",
       "    </tr>\n",
       "    <tr>\n",
       "      <th>25722</th>\n",
       "      <td>xx</td>\n",
       "      <td>NaN</td>\n",
       "      <td>NaN</td>\n",
       "      <td>NaN</td>\n",
       "      <td>NaN</td>\n",
       "      <td>NaN</td>\n",
       "      <td>NaN</td>\n",
       "      <td>NaN</td>\n",
       "      <td>NaN</td>\n",
       "      <td>NaN</td>\n",
       "      <td>...</td>\n",
       "      <td>NaN</td>\n",
       "      <td>NaN</td>\n",
       "      <td>NaN</td>\n",
       "      <td>NaN</td>\n",
       "      <td>NaN</td>\n",
       "      <td>NaN</td>\n",
       "      <td>NaN</td>\n",
       "      <td>NaN</td>\n",
       "      <td>NaN</td>\n",
       "      <td>NaN</td>\n",
       "    </tr>\n",
       "  </tbody>\n",
       "</table>\n",
       "<p>5 rows × 24 columns</p>\n",
       "</div>"
      ],
      "text/plain": [
       "      Case Number Date  Year Type Country Area Location Activity Name Sex    \n",
       "25718         NaN  NaN   NaN  NaN     NaN  NaN      NaN      NaN  NaN  NaN  \\\n",
       "25719         NaN  NaN   NaN  NaN     NaN  NaN      NaN      NaN  NaN  NaN   \n",
       "25720         NaN  NaN   NaN  NaN     NaN  NaN      NaN      NaN  NaN  NaN   \n",
       "25721         NaN  NaN   NaN  NaN     NaN  NaN      NaN      NaN  NaN  NaN   \n",
       "25722          xx  NaN   NaN  NaN     NaN  NaN      NaN      NaN  NaN  NaN   \n",
       "\n",
       "       ... Species  Investigator or Source  pdf href formula href   \n",
       "25718  ...      NaN                    NaN  NaN          NaN  NaN  \\\n",
       "25719  ...      NaN                    NaN  NaN          NaN  NaN   \n",
       "25720  ...      NaN                    NaN  NaN          NaN  NaN   \n",
       "25721  ...      NaN                    NaN  NaN          NaN  NaN   \n",
       "25722  ...      NaN                    NaN  NaN          NaN  NaN   \n",
       "\n",
       "      Case Number.1 Case Number.2 original order Unnamed: 22 Unnamed: 23  \n",
       "25718           NaN           NaN            NaN         NaN         NaN  \n",
       "25719           NaN           NaN            NaN         NaN         NaN  \n",
       "25720           NaN           NaN            NaN         NaN         NaN  \n",
       "25721           NaN           NaN            NaN         NaN         NaN  \n",
       "25722           NaN           NaN            NaN         NaN         NaN  \n",
       "\n",
       "[5 rows x 24 columns]"
      ]
     },
     "execution_count": 852,
     "metadata": {},
     "output_type": "execute_result"
    }
   ],
   "source": [
    "shark_orig.tail()"
   ]
  },
  {
   "cell_type": "code",
   "execution_count": 853,
   "metadata": {},
   "outputs": [
    {
     "name": "stdout",
     "output_type": "stream",
     "text": [
      "<class 'pandas.core.frame.DataFrame'>\n",
      "RangeIndex: 25723 entries, 0 to 25722\n",
      "Data columns (total 24 columns):\n",
      " #   Column                  Non-Null Count  Dtype  \n",
      "---  ------                  --------------  -----  \n",
      " 0   Case Number             8702 non-null   object \n",
      " 1   Date                    6302 non-null   object \n",
      " 2   Year                    6300 non-null   float64\n",
      " 3   Type                    6298 non-null   object \n",
      " 4   Country                 6252 non-null   object \n",
      " 5   Area                    5847 non-null   object \n",
      " 6   Location                5762 non-null   object \n",
      " 7   Activity                5758 non-null   object \n",
      " 8   Name                    6092 non-null   object \n",
      " 9   Sex                     5737 non-null   object \n",
      " 10  Age                     3471 non-null   object \n",
      " 11  Injury                  6274 non-null   object \n",
      " 12  Fatal (Y/N)             5763 non-null   object \n",
      " 13  Time                    2948 non-null   object \n",
      " 14  Species                 3464 non-null   object \n",
      " 15  Investigator or Source  6285 non-null   object \n",
      " 16  pdf                     6302 non-null   object \n",
      " 17  href formula            6301 non-null   object \n",
      " 18  href                    6302 non-null   object \n",
      " 19  Case Number.1           6302 non-null   object \n",
      " 20  Case Number.2           6302 non-null   object \n",
      " 21  original order          6309 non-null   float64\n",
      " 22  Unnamed: 22             1 non-null      object \n",
      " 23  Unnamed: 23             2 non-null      object \n",
      "dtypes: float64(2), object(22)\n",
      "memory usage: 4.7+ MB\n"
     ]
    }
   ],
   "source": [
    "shark_orig.info()"
   ]
  },
  {
   "cell_type": "code",
   "execution_count": 854,
   "metadata": {},
   "outputs": [
    {
     "data": {
      "text/plain": [
       "(25723, 24)"
      ]
     },
     "execution_count": 854,
     "metadata": {},
     "output_type": "execute_result"
    }
   ],
   "source": [
    "shark_orig.shape"
   ]
  },
  {
   "attachments": {},
   "cell_type": "markdown",
   "metadata": {},
   "source": [
    "Vamos a revisar los nombres de las columnas y corregir posibles separaciones."
   ]
  },
  {
   "cell_type": "code",
   "execution_count": 855,
   "metadata": {},
   "outputs": [
    {
     "data": {
      "text/plain": [
       "Index(['Case Number', 'Date', 'Year', 'Type', 'Country', 'Area', 'Location',\n",
       "       'Activity', 'Name', 'Sex ', 'Age', 'Injury', 'Fatal (Y/N)', 'Time',\n",
       "       'Species ', 'Investigator or Source', 'pdf', 'href formula', 'href',\n",
       "       'Case Number.1', 'Case Number.2', 'original order', 'Unnamed: 22',\n",
       "       'Unnamed: 23'],\n",
       "      dtype='object')"
      ]
     },
     "execution_count": 855,
     "metadata": {},
     "output_type": "execute_result"
    }
   ],
   "source": [
    "shark_orig.columns"
   ]
  },
  {
   "cell_type": "code",
   "execution_count": 857,
   "metadata": {},
   "outputs": [],
   "source": [
    "shark_orig.columns = shark_orig.columns.str.strip()"
   ]
  },
  {
   "attachments": {},
   "cell_type": "markdown",
   "metadata": {},
   "source": [
    "Compruebo cuantos nulos hay por columna\n",
    "\n",
    "_La función la tengo en carpeta funciones.py y la uso aquí_"
   ]
  },
  {
   "cell_type": "code",
   "execution_count": 858,
   "metadata": {},
   "outputs": [
    {
     "name": "stdout",
     "output_type": "stream",
     "text": [
      "Case Number               17021\n",
      "Date                      19421\n",
      "Year                      19423\n",
      "Type                      19425\n",
      "Country                   19471\n",
      "Area                      19876\n",
      "Location                  19961\n",
      "Activity                  19965\n",
      "Name                      19631\n",
      "Sex                       19986\n",
      "Age                       22252\n",
      "Injury                    19449\n",
      "Fatal (Y/N)               19960\n",
      "Time                      22775\n",
      "Species                   22259\n",
      "Investigator or Source    19438\n",
      "pdf                       19421\n",
      "href formula              19422\n",
      "href                      19421\n",
      "Case Number.1             19421\n",
      "Case Number.2             19421\n",
      "original order            19414\n",
      "Unnamed: 22               25722\n",
      "Unnamed: 23               25721\n",
      "dtype: int64\n"
     ]
    }
   ],
   "source": [
    "nulitos(shark_orig)"
   ]
  },
  {
   "attachments": {},
   "cell_type": "markdown",
   "metadata": {},
   "source": [
    "Hay bastantes, así que vamos a ir gestionándolos para neustro estudio.\n",
    "\n",
    "Como vimos en el tail(), parece que hay filas con todo valores nulos y quizás algunas con más del 80% de valores nulos. Vamos a comprobarlo y eliminarlas."
   ]
  },
  {
   "cell_type": "code",
   "execution_count": 859,
   "metadata": {},
   "outputs": [
    {
     "data": {
      "text/plain": [
       "17020"
      ]
     },
     "execution_count": 859,
     "metadata": {},
     "output_type": "execute_result"
    }
   ],
   "source": [
    "filas_nul = shark_orig[shark_orig.isna().all(axis=1)]\n",
    "filas_nul.shape[0]"
   ]
  },
  {
   "cell_type": "code",
   "execution_count": 860,
   "metadata": {},
   "outputs": [
    {
     "data": {
      "text/plain": [
       "19421"
      ]
     },
     "execution_count": 860,
     "metadata": {},
     "output_type": "execute_result"
    }
   ],
   "source": [
    "filas_casinul = shark_orig[shark_orig.isna().sum(axis=1) > 20].index\n",
    "filas_casinul.shape[0]"
   ]
  },
  {
   "cell_type": "code",
   "execution_count": 861,
   "metadata": {},
   "outputs": [
    {
     "data": {
      "text/plain": [
       "(6302, 24)"
      ]
     },
     "execution_count": 861,
     "metadata": {},
     "output_type": "execute_result"
    }
   ],
   "source": [
    "shark_cnulos = shark_orig.drop(filas_casinul)\n",
    "shark_cnulos = shark_cnulos.dropna(how='all')\n",
    "shark_cnulos.shape\n"
   ]
  },
  {
   "attachments": {},
   "cell_type": "markdown",
   "metadata": {},
   "source": [
    "Revisemos también cuantas filas duplicadas hay, en caso de que haya borraríamos esas filas."
   ]
  },
  {
   "cell_type": "code",
   "execution_count": 862,
   "metadata": {},
   "outputs": [
    {
     "data": {
      "text/plain": [
       "0"
      ]
     },
     "execution_count": 862,
     "metadata": {},
     "output_type": "execute_result"
    }
   ],
   "source": [
    "shark_cnulos.duplicated().sum()"
   ]
  },
  {
   "cell_type": "code",
   "execution_count": 863,
   "metadata": {},
   "outputs": [
    {
     "name": "stdout",
     "output_type": "stream",
     "text": [
      "Case Number                  1\n",
      "Year                         2\n",
      "Type                         4\n",
      "Country                     50\n",
      "Area                       455\n",
      "Location                   540\n",
      "Activity                   544\n",
      "Name                       210\n",
      "Sex                        565\n",
      "Age                       2831\n",
      "Injury                      28\n",
      "Fatal (Y/N)                539\n",
      "Time                      3354\n",
      "Species                   2838\n",
      "Investigator or Source      17\n",
      "href formula                 1\n",
      "Unnamed: 22               6301\n",
      "Unnamed: 23               6300\n",
      "dtype: int64\n"
     ]
    }
   ],
   "source": [
    "nulitos(shark_cnulos)"
   ]
  },
  {
   "attachments": {},
   "cell_type": "markdown",
   "metadata": {},
   "source": [
    "Las columnas 'Unnamed: 22' y 'Unnamed: 23' tienen casi todo valores nulos de object por lo que las renombramos como string de momento porque nos pueden ser útiles después."
   ]
  },
  {
   "cell_type": "code",
   "execution_count": 864,
   "metadata": {},
   "outputs": [
    {
     "data": {
      "text/html": [
       "<div>\n",
       "<style scoped>\n",
       "    .dataframe tbody tr th:only-of-type {\n",
       "        vertical-align: middle;\n",
       "    }\n",
       "\n",
       "    .dataframe tbody tr th {\n",
       "        vertical-align: top;\n",
       "    }\n",
       "\n",
       "    .dataframe thead th {\n",
       "        text-align: right;\n",
       "    }\n",
       "</style>\n",
       "<table border=\"1\" class=\"dataframe\">\n",
       "  <thead>\n",
       "    <tr style=\"text-align: right;\">\n",
       "      <th></th>\n",
       "      <th>Unnamed: 22</th>\n",
       "      <th>Unnamed: 23</th>\n",
       "    </tr>\n",
       "  </thead>\n",
       "  <tbody>\n",
       "    <tr>\n",
       "      <th>0</th>\n",
       "      <td></td>\n",
       "      <td></td>\n",
       "    </tr>\n",
       "    <tr>\n",
       "      <th>1</th>\n",
       "      <td></td>\n",
       "      <td></td>\n",
       "    </tr>\n",
       "    <tr>\n",
       "      <th>2</th>\n",
       "      <td></td>\n",
       "      <td></td>\n",
       "    </tr>\n",
       "    <tr>\n",
       "      <th>3</th>\n",
       "      <td></td>\n",
       "      <td></td>\n",
       "    </tr>\n",
       "    <tr>\n",
       "      <th>4</th>\n",
       "      <td></td>\n",
       "      <td></td>\n",
       "    </tr>\n",
       "  </tbody>\n",
       "</table>\n",
       "</div>"
      ],
      "text/plain": [
       "  Unnamed: 22 Unnamed: 23\n",
       "0                        \n",
       "1                        \n",
       "2                        \n",
       "3                        \n",
       "4                        "
      ]
     },
     "execution_count": 864,
     "metadata": {},
     "output_type": "execute_result"
    }
   ],
   "source": [
    "shark_cnulos[['Unnamed: 22', 'Unnamed: 23']] = shark_cnulos[['Unnamed: 22', 'Unnamed: 23']].fillna('')\n",
    "\n",
    "shark_cnulos[['Unnamed: 22', 'Unnamed: 23']].head()"
   ]
  },
  {
   "attachments": {},
   "cell_type": "markdown",
   "metadata": {},
   "source": [
    "Como 'Case Number' tiene menos datos nulos que 'Case Number.1' y 'Case Number.2' y son la mismo info pero duplicada, las dos últimas no me van a ser funcionales y las cubriré con los datos de la primera para poder crear un id único real de los datos."
   ]
  },
  {
   "cell_type": "code",
   "execution_count": 865,
   "metadata": {},
   "outputs": [
    {
     "data": {
      "text/html": [
       "<div>\n",
       "<style scoped>\n",
       "    .dataframe tbody tr th:only-of-type {\n",
       "        vertical-align: middle;\n",
       "    }\n",
       "\n",
       "    .dataframe tbody tr th {\n",
       "        vertical-align: top;\n",
       "    }\n",
       "\n",
       "    .dataframe thead th {\n",
       "        text-align: right;\n",
       "    }\n",
       "</style>\n",
       "<table border=\"1\" class=\"dataframe\">\n",
       "  <thead>\n",
       "    <tr style=\"text-align: right;\">\n",
       "      <th></th>\n",
       "      <th>Case Number</th>\n",
       "      <th>Case Number.1</th>\n",
       "      <th>Case Number.1</th>\n",
       "    </tr>\n",
       "  </thead>\n",
       "  <tbody>\n",
       "    <tr>\n",
       "      <th>6297</th>\n",
       "      <td>ND.0005</td>\n",
       "      <td>ND.0005</td>\n",
       "      <td>ND.0005</td>\n",
       "    </tr>\n",
       "    <tr>\n",
       "      <th>6298</th>\n",
       "      <td>ND.0004</td>\n",
       "      <td>ND.0004</td>\n",
       "      <td>ND.0004</td>\n",
       "    </tr>\n",
       "    <tr>\n",
       "      <th>6299</th>\n",
       "      <td>ND.0003</td>\n",
       "      <td>ND.0003</td>\n",
       "      <td>ND.0003</td>\n",
       "    </tr>\n",
       "    <tr>\n",
       "      <th>6300</th>\n",
       "      <td>ND.0002</td>\n",
       "      <td>ND.0002</td>\n",
       "      <td>ND.0002</td>\n",
       "    </tr>\n",
       "    <tr>\n",
       "      <th>6301</th>\n",
       "      <td>ND.0001</td>\n",
       "      <td>ND.0001</td>\n",
       "      <td>ND.0001</td>\n",
       "    </tr>\n",
       "  </tbody>\n",
       "</table>\n",
       "</div>"
      ],
      "text/plain": [
       "     Case Number Case Number.1 Case Number.1\n",
       "6297     ND.0005       ND.0005       ND.0005\n",
       "6298     ND.0004       ND.0004       ND.0004\n",
       "6299     ND.0003       ND.0003       ND.0003\n",
       "6300     ND.0002       ND.0002       ND.0002\n",
       "6301     ND.0001       ND.0001       ND.0001"
      ]
     },
     "execution_count": 865,
     "metadata": {},
     "output_type": "execute_result"
    }
   ],
   "source": [
    "shark_cnulos[['Case Number', 'Case Number.1', 'Case Number.1']].tail()"
   ]
  },
  {
   "cell_type": "code",
   "execution_count": 866,
   "metadata": {},
   "outputs": [
    {
     "data": {
      "text/html": [
       "<div>\n",
       "<style scoped>\n",
       "    .dataframe tbody tr th:only-of-type {\n",
       "        vertical-align: middle;\n",
       "    }\n",
       "\n",
       "    .dataframe tbody tr th {\n",
       "        vertical-align: top;\n",
       "    }\n",
       "\n",
       "    .dataframe thead th {\n",
       "        text-align: right;\n",
       "    }\n",
       "</style>\n",
       "<table border=\"1\" class=\"dataframe\">\n",
       "  <thead>\n",
       "    <tr style=\"text-align: right;\">\n",
       "      <th></th>\n",
       "      <th>Case Number</th>\n",
       "      <th>Case Number.1</th>\n",
       "      <th>Case Number.2</th>\n",
       "    </tr>\n",
       "  </thead>\n",
       "  <tbody>\n",
       "    <tr>\n",
       "      <th>6297</th>\n",
       "      <td>ND.0005</td>\n",
       "      <td>ND.0005</td>\n",
       "      <td>ND.0005</td>\n",
       "    </tr>\n",
       "    <tr>\n",
       "      <th>6298</th>\n",
       "      <td>ND.0004</td>\n",
       "      <td>ND.0004</td>\n",
       "      <td>ND.0004</td>\n",
       "    </tr>\n",
       "    <tr>\n",
       "      <th>6299</th>\n",
       "      <td>ND.0003</td>\n",
       "      <td>ND.0003</td>\n",
       "      <td>ND.0003</td>\n",
       "    </tr>\n",
       "    <tr>\n",
       "      <th>6300</th>\n",
       "      <td>ND.0002</td>\n",
       "      <td>ND.0002</td>\n",
       "      <td>ND.0002</td>\n",
       "    </tr>\n",
       "    <tr>\n",
       "      <th>6301</th>\n",
       "      <td>ND.0001</td>\n",
       "      <td>ND.0001</td>\n",
       "      <td>ND.0001</td>\n",
       "    </tr>\n",
       "  </tbody>\n",
       "</table>\n",
       "</div>"
      ],
      "text/plain": [
       "     Case Number Case Number.1 Case Number.2\n",
       "6297     ND.0005       ND.0005       ND.0005\n",
       "6298     ND.0004       ND.0004       ND.0004\n",
       "6299     ND.0003       ND.0003       ND.0003\n",
       "6300     ND.0002       ND.0002       ND.0002\n",
       "6301     ND.0001       ND.0001       ND.0001"
      ]
     },
     "execution_count": 866,
     "metadata": {},
     "output_type": "execute_result"
    }
   ],
   "source": [
    "shark_cnulos['Case Number.1'] = shark_cnulos['Case Number.1'] = shark_cnulos['Case Number']\n",
    "shark_cnulos['Case Number.2'] = shark_cnulos['Case Number.2'] = shark_cnulos['Case Number']\n",
    "shark_cnulos[['Case Number', 'Case Number.1', 'Case Number.2']].tail()"
   ]
  },
  {
   "cell_type": "code",
   "execution_count": 867,
   "metadata": {},
   "outputs": [],
   "source": [
    "shark_cnulos['Case Number'] = shark_cnulos['Case Number'] = 0\n",
    "shark_cnulos['Case Number'] = shark_cnulos['Case Number'].astype(int) "
   ]
  },
  {
   "cell_type": "code",
   "execution_count": 868,
   "metadata": {},
   "outputs": [
    {
     "data": {
      "text/plain": [
       "0    1\n",
       "1    2\n",
       "2    3\n",
       "3    4\n",
       "4    5\n",
       "Name: Case Number, dtype: int64"
      ]
     },
     "execution_count": 868,
     "metadata": {},
     "output_type": "execute_result"
    }
   ],
   "source": [
    "shark_cnulos['Case Number'] = shark_cnulos['Case Number'] = [x for x in range(1, 6303)]\n",
    "shark_cnulos['Case Number'].head()"
   ]
  },
  {
   "cell_type": "code",
   "execution_count": 869,
   "metadata": {},
   "outputs": [
    {
     "name": "stdout",
     "output_type": "stream",
     "text": [
      "Year                         2\n",
      "Type                         4\n",
      "Country                     50\n",
      "Area                       455\n",
      "Location                   540\n",
      "Activity                   544\n",
      "Name                       210\n",
      "Sex                        565\n",
      "Age                       2831\n",
      "Injury                      28\n",
      "Fatal (Y/N)                539\n",
      "Time                      3354\n",
      "Species                   2838\n",
      "Investigator or Source      17\n",
      "href formula                 1\n",
      "Case Number.1                1\n",
      "Case Number.2                1\n",
      "dtype: int64\n"
     ]
    }
   ],
   "source": [
    "nulitos(shark_cnulos)"
   ]
  },
  {
   "cell_type": "code",
   "execution_count": 870,
   "metadata": {},
   "outputs": [
    {
     "data": {
      "text/html": [
       "<div>\n",
       "<style scoped>\n",
       "    .dataframe tbody tr th:only-of-type {\n",
       "        vertical-align: middle;\n",
       "    }\n",
       "\n",
       "    .dataframe tbody tr th {\n",
       "        vertical-align: top;\n",
       "    }\n",
       "\n",
       "    .dataframe thead th {\n",
       "        text-align: right;\n",
       "    }\n",
       "</style>\n",
       "<table border=\"1\" class=\"dataframe\">\n",
       "  <thead>\n",
       "    <tr style=\"text-align: right;\">\n",
       "      <th></th>\n",
       "      <th>Case Number</th>\n",
       "      <th>Date</th>\n",
       "      <th>Year</th>\n",
       "      <th>Type</th>\n",
       "      <th>Country</th>\n",
       "      <th>Area</th>\n",
       "      <th>Location</th>\n",
       "      <th>Activity</th>\n",
       "      <th>Name</th>\n",
       "      <th>Sex</th>\n",
       "      <th>...</th>\n",
       "      <th>Species</th>\n",
       "      <th>Investigator or Source</th>\n",
       "      <th>pdf</th>\n",
       "      <th>href formula</th>\n",
       "      <th>href</th>\n",
       "      <th>Case Number.1</th>\n",
       "      <th>Case Number.2</th>\n",
       "      <th>original order</th>\n",
       "      <th>Unnamed: 22</th>\n",
       "      <th>Unnamed: 23</th>\n",
       "    </tr>\n",
       "  </thead>\n",
       "  <tbody>\n",
       "    <tr>\n",
       "      <th>5488</th>\n",
       "      <td>5489</td>\n",
       "      <td>Reported 06-Sep-1905</td>\n",
       "      <td>1905.0</td>\n",
       "      <td>Provoked</td>\n",
       "      <td>USA</td>\n",
       "      <td>Florida</td>\n",
       "      <td>Fort Pierce, St Lucie County</td>\n",
       "      <td>Fishing</td>\n",
       "      <td>David Curry</td>\n",
       "      <td>M</td>\n",
       "      <td>...</td>\n",
       "      <td>NaN</td>\n",
       "      <td>Muncie Evening Press, 8/6/1913</td>\n",
       "      <td>1905.09.06.R-Curry.pdf</td>\n",
       "      <td>http://sharkattackfile.net/spreadsheets/pdf_di...</td>\n",
       "      <td>http://sharkattackfile.net/spreadsheets/pdf_di...</td>\n",
       "      <td>NaN</td>\n",
       "      <td>NaN</td>\n",
       "      <td>815.0</td>\n",
       "      <td></td>\n",
       "      <td></td>\n",
       "    </tr>\n",
       "  </tbody>\n",
       "</table>\n",
       "<p>1 rows × 24 columns</p>\n",
       "</div>"
      ],
      "text/plain": [
       "      Case Number                  Date    Year      Type Country     Area   \n",
       "5488         5489  Reported 06-Sep-1905  1905.0  Provoked     USA  Florida  \\\n",
       "\n",
       "                          Location Activity         Name Sex  ... Species   \n",
       "5488  Fort Pierce, St Lucie County  Fishing  David Curry   M  ...     NaN  \\\n",
       "\n",
       "              Investigator or Source                     pdf   \n",
       "5488  Muncie Evening Press, 8/6/1913  1905.09.06.R-Curry.pdf  \\\n",
       "\n",
       "                                           href formula   \n",
       "5488  http://sharkattackfile.net/spreadsheets/pdf_di...  \\\n",
       "\n",
       "                                                   href Case Number.1   \n",
       "5488  http://sharkattackfile.net/spreadsheets/pdf_di...           NaN  \\\n",
       "\n",
       "     Case Number.2 original order Unnamed: 22 Unnamed: 23  \n",
       "5488           NaN          815.0                          \n",
       "\n",
       "[1 rows x 24 columns]"
      ]
     },
     "execution_count": 870,
     "metadata": {},
     "output_type": "execute_result"
    }
   ],
   "source": [
    "shark_cnulos.loc[shark_cnulos['Case Number.1'].isnull()]"
   ]
  },
  {
   "attachments": {},
   "cell_type": "markdown",
   "metadata": {},
   "source": [
    "En 'Year' solo hay dos valores nulos, vamos a comprobar cuales son y si los podemos llenar con alguna info de otras columnas que tienen fecha."
   ]
  },
  {
   "cell_type": "code",
   "execution_count": 871,
   "metadata": {},
   "outputs": [
    {
     "data": {
      "text/html": [
       "<div>\n",
       "<style scoped>\n",
       "    .dataframe tbody tr th:only-of-type {\n",
       "        vertical-align: middle;\n",
       "    }\n",
       "\n",
       "    .dataframe tbody tr th {\n",
       "        vertical-align: top;\n",
       "    }\n",
       "\n",
       "    .dataframe thead th {\n",
       "        text-align: right;\n",
       "    }\n",
       "</style>\n",
       "<table border=\"1\" class=\"dataframe\">\n",
       "  <thead>\n",
       "    <tr style=\"text-align: right;\">\n",
       "      <th></th>\n",
       "      <th>Year</th>\n",
       "      <th>Case Number.1</th>\n",
       "      <th>Date</th>\n",
       "    </tr>\n",
       "  </thead>\n",
       "  <tbody>\n",
       "    <tr>\n",
       "      <th>187</th>\n",
       "      <td>NaN</td>\n",
       "      <td>2017.01.08.R</td>\n",
       "      <td>Reported 08-Jan-2017</td>\n",
       "    </tr>\n",
       "    <tr>\n",
       "      <th>6079</th>\n",
       "      <td>NaN</td>\n",
       "      <td>1836.08.19.R</td>\n",
       "      <td>Reported 19-Aug-1836</td>\n",
       "    </tr>\n",
       "  </tbody>\n",
       "</table>\n",
       "</div>"
      ],
      "text/plain": [
       "      Year Case Number.1                  Date\n",
       "187    NaN  2017.01.08.R  Reported 08-Jan-2017\n",
       "6079   NaN  1836.08.19.R  Reported 19-Aug-1836"
      ]
     },
     "execution_count": 871,
     "metadata": {},
     "output_type": "execute_result"
    }
   ],
   "source": [
    "shark_cnulos.loc[shark_cnulos['Year'].isnull(), ['Year', 'Case Number.1', 'Date']]"
   ]
  },
  {
   "cell_type": "code",
   "execution_count": 872,
   "metadata": {},
   "outputs": [],
   "source": [
    "shark_cnulos.loc['Year'] = shark_cnulos.loc[187, 'Year'] = 2017\n",
    "shark_cnulos.loc['Year'] = shark_cnulos.loc[6079, 'Year'] = 1836"
   ]
  },
  {
   "attachments": {},
   "cell_type": "markdown",
   "metadata": {},
   "source": [
    "Para 'Type' hay varios valores únicos. Vamos a revisarlo y cuadrar en cuál encajarían mejor los nulos."
   ]
  },
  {
   "cell_type": "code",
   "execution_count": 873,
   "metadata": {},
   "outputs": [
    {
     "data": {
      "text/plain": [
       "array(['Boating', 'Unprovoked', 'Invalid', 'Provoked', 'Questionable',\n",
       "       'Sea Disaster', nan, 'Boat', 'Boatomg', 1836], dtype=object)"
      ]
     },
     "execution_count": 873,
     "metadata": {},
     "output_type": "execute_result"
    }
   ],
   "source": [
    "shark_cnulos['Type'].unique()"
   ]
  },
  {
   "cell_type": "code",
   "execution_count": 874,
   "metadata": {},
   "outputs": [
    {
     "data": {
      "text/plain": [
       "85      Injuries to hands and legs\n",
       "382                 Injury to hand\n",
       "4867                         FATAL\n",
       "5705                         FATAL\n",
       "Name: Injury, dtype: object"
      ]
     },
     "execution_count": 874,
     "metadata": {},
     "output_type": "execute_result"
    }
   ],
   "source": [
    "shark_cnulos.loc[shark_cnulos['Type'].isnull(), 'Injury']"
   ]
  },
  {
   "cell_type": "code",
   "execution_count": 875,
   "metadata": {},
   "outputs": [
    {
     "data": {
      "text/plain": [
       "2            Injury to left lower leg from surfboard skeg\n",
       "13      Injured by teeth of a dead porbeagle shark he ...\n",
       "31      Injury to ankle from marine animal trapped in ...\n",
       "43                       Collision / No injury, no attack\n",
       "44                    Lacerations to 4 toes of right foot\n",
       "                              ...                        \n",
       "6147                             Lacerations to arm & leg\n",
       "6157    Partial hominid remains recovered from shark, ...\n",
       "6164                                                FATAL\n",
       "6227    Said to be fatal and involve a 4.6 m to 6 m [1...\n",
       "6232    A 4.3 m [14'] shark made threat display. No in...\n",
       "Name: Injury, Length: 547, dtype: object"
      ]
     },
     "execution_count": 875,
     "metadata": {},
     "output_type": "execute_result"
    }
   ],
   "source": [
    "shark_cnulos.loc[shark_cnulos['Type'] == 'Invalid', 'Injury']"
   ]
  },
  {
   "cell_type": "code",
   "execution_count": 876,
   "metadata": {},
   "outputs": [],
   "source": [
    "shark_cnulos['Type'] = shark_cnulos['Type'].fillna('Invalid')"
   ]
  },
  {
   "attachments": {},
   "cell_type": "markdown",
   "metadata": {},
   "source": [
    "Para 'href formula' tenemos otra columna 'href' que tiene los mismos datos, por lo que cogemos ese índice y se lo copiamos del completo para quitar el único nulo."
   ]
  },
  {
   "cell_type": "code",
   "execution_count": 877,
   "metadata": {},
   "outputs": [
    {
     "data": {
      "text/plain": [
       "3244    http://sharkattackfile.net/spreadsheets/pdf_di...\n",
       "Name: href, dtype: object"
      ]
     },
     "execution_count": 877,
     "metadata": {},
     "output_type": "execute_result"
    }
   ],
   "source": [
    "shark_cnulos.loc[shark_cnulos['href formula'].isnull(), 'href']"
   ]
  },
  {
   "cell_type": "code",
   "execution_count": 878,
   "metadata": {},
   "outputs": [],
   "source": [
    "shark_cnulos['href formula'] = shark_cnulos.loc[3244, 'href formula'] = shark_cnulos.loc[3244,'href']"
   ]
  },
  {
   "attachments": {},
   "cell_type": "markdown",
   "metadata": {},
   "source": [
    "Tanto 'Name', 'Investigator or Source', 'Species', 'Injury' tienen info que no podemos recuperar en nuestro análsiis. Las rellenamos con 'unknown' ya que es la descripción más adecuada."
   ]
  },
  {
   "cell_type": "code",
   "execution_count": 879,
   "metadata": {},
   "outputs": [],
   "source": [
    "shark_cnulos['Species'] = shark_cnulos['Species'].astype(str)"
   ]
  },
  {
   "cell_type": "code",
   "execution_count": 901,
   "metadata": {},
   "outputs": [],
   "source": [
    "shark_cnulos[['Name', 'Species', 'Investigator or Source', 'Injury', 'Activity', 'Age']] = shark_cnulos[['Name', 'Species', 'Investigator or Source', 'Injury', 'Activity', 'Age']].fillna('unknown')"
   ]
  },
  {
   "cell_type": "code",
   "execution_count": 902,
   "metadata": {},
   "outputs": [
    {
     "name": "stdout",
     "output_type": "stream",
     "text": [
      "Country            50\n",
      "Area              455\n",
      "Location          540\n",
      "Sex               565\n",
      "Time             3354\n",
      "Case Number.1       1\n",
      "Case Number.2       1\n",
      "dtype: int64\n"
     ]
    }
   ],
   "source": [
    "nulitos(shark_cnulos)"
   ]
  },
  {
   "attachments": {},
   "cell_type": "markdown",
   "metadata": {},
   "source": [
    "Ahora vamos a revisar la columna de Fatal. Tiene varios valores repetidos por lo que los juntaremos para quedarnos con tres: Y, N o N/A. Por otro lado, la columna Injury tiene información sobre 'Fatal' por lo que la utilizaremos para llenar algunos nulos."
   ]
  },
  {
   "cell_type": "code",
   "execution_count": 884,
   "metadata": {},
   "outputs": [
    {
     "data": {
      "text/plain": [
       "array(['N', 'Y', nan, 'M', 'UNKNOWN', '2017', ' N', 'N ', 'y', 1836],\n",
       "      dtype=object)"
      ]
     },
     "execution_count": 884,
     "metadata": {},
     "output_type": "execute_result"
    }
   ],
   "source": [
    "shark_cnulos['Fatal (Y/N)'].unique()"
   ]
  },
  {
   "cell_type": "code",
   "execution_count": 885,
   "metadata": {},
   "outputs": [
    {
     "data": {
      "text/html": [
       "<div>\n",
       "<style scoped>\n",
       "    .dataframe tbody tr th:only-of-type {\n",
       "        vertical-align: middle;\n",
       "    }\n",
       "\n",
       "    .dataframe tbody tr th {\n",
       "        vertical-align: top;\n",
       "    }\n",
       "\n",
       "    .dataframe thead th {\n",
       "        text-align: right;\n",
       "    }\n",
       "</style>\n",
       "<table border=\"1\" class=\"dataframe\">\n",
       "  <thead>\n",
       "    <tr style=\"text-align: right;\">\n",
       "      <th></th>\n",
       "      <th>Fatal (Y/N)</th>\n",
       "      <th>Injury</th>\n",
       "    </tr>\n",
       "  </thead>\n",
       "  <tbody>\n",
       "    <tr>\n",
       "      <th>27</th>\n",
       "      <td>NaN</td>\n",
       "      <td>Multiple severe injuries to arms and leg, leg ...</td>\n",
       "    </tr>\n",
       "    <tr>\n",
       "      <th>76</th>\n",
       "      <td>NaN</td>\n",
       "      <td>FATAL</td>\n",
       "    </tr>\n",
       "    <tr>\n",
       "      <th>79</th>\n",
       "      <td>NaN</td>\n",
       "      <td>Lacerations to right ankle, foot &amp; toe</td>\n",
       "    </tr>\n",
       "    <tr>\n",
       "      <th>84</th>\n",
       "      <td>NaN</td>\n",
       "      <td>FATAL, but death was probably due to drowning</td>\n",
       "    </tr>\n",
       "    <tr>\n",
       "      <th>98</th>\n",
       "      <td>NaN</td>\n",
       "      <td>Lacerations to left foot</td>\n",
       "    </tr>\n",
       "    <tr>\n",
       "      <th>...</th>\n",
       "      <td>...</td>\n",
       "      <td>...</td>\n",
       "    </tr>\n",
       "    <tr>\n",
       "      <th>6147</th>\n",
       "      <td>NaN</td>\n",
       "      <td>Lacerations to arm &amp; leg</td>\n",
       "    </tr>\n",
       "    <tr>\n",
       "      <th>6157</th>\n",
       "      <td>NaN</td>\n",
       "      <td>Partial hominid remains recovered from shark, ...</td>\n",
       "    </tr>\n",
       "    <tr>\n",
       "      <th>6158</th>\n",
       "      <td>NaN</td>\n",
       "      <td>Struck on thigh</td>\n",
       "    </tr>\n",
       "    <tr>\n",
       "      <th>6164</th>\n",
       "      <td>NaN</td>\n",
       "      <td>FATAL</td>\n",
       "    </tr>\n",
       "    <tr>\n",
       "      <th>6232</th>\n",
       "      <td>NaN</td>\n",
       "      <td>A 4.3 m [14'] shark made threat display. No in...</td>\n",
       "    </tr>\n",
       "  </tbody>\n",
       "</table>\n",
       "<p>539 rows × 2 columns</p>\n",
       "</div>"
      ],
      "text/plain": [
       "     Fatal (Y/N)                                             Injury\n",
       "27           NaN  Multiple severe injuries to arms and leg, leg ...\n",
       "76           NaN                                              FATAL\n",
       "79           NaN             Lacerations to right ankle, foot & toe\n",
       "84           NaN      FATAL, but death was probably due to drowning\n",
       "98           NaN                           Lacerations to left foot\n",
       "...          ...                                                ...\n",
       "6147         NaN                           Lacerations to arm & leg\n",
       "6157         NaN  Partial hominid remains recovered from shark, ...\n",
       "6158         NaN                                    Struck on thigh\n",
       "6164         NaN                                              FATAL\n",
       "6232         NaN  A 4.3 m [14'] shark made threat display. No in...\n",
       "\n",
       "[539 rows x 2 columns]"
      ]
     },
     "execution_count": 885,
     "metadata": {},
     "output_type": "execute_result"
    }
   ],
   "source": [
    "shark_cnulos.loc[shark_cnulos['Fatal (Y/N)'].isnull(), ['Fatal (Y/N)', 'Injury']]"
   ]
  },
  {
   "cell_type": "code",
   "execution_count": 886,
   "metadata": {},
   "outputs": [],
   "source": [
    "shark_cnulos['Injury'] = shark_cnulos['Injury'].astype(str)\n"
   ]
  },
  {
   "cell_type": "code",
   "execution_count": 887,
   "metadata": {},
   "outputs": [
    {
     "name": "stdout",
     "output_type": "stream",
     "text": [
      "[6, 13, 58, 59, 64, 76, 84, 91, 124, 144, 149, 155, 159, 174, 221, 250, 252, 267, 271, 288, 299, 325, 343, 385, 425, 429, 434, 437, 440, 447, 448, 464, 465, 470, 473, 500, 525, 569, 571, 582, 596, 597, 599, 613, 639, 651, 654, 655, 660, 673, 677, 685, 688, 696, 700, 715, 722, 728, 751, 762, 763, 765, 768, 799, 803, 825, 850, 855, 865, 866, 871, 874, 879, 886, 889, 890, 909, 910, 921, 923, 940, 945, 954, 960, 967, 969, 978, 986, 994, 996, 1038, 1045, 1051, 1063, 1065, 1090, 1091, 1092, 1093, 1096, 1098, 1105, 1122, 1138, 1142, 1150, 1158, 1162, 1166, 1167, 1170, 1182, 1187, 1192, 1193, 1212, 1240, 1255, 1257, 1258, 1263, 1268, 1272, 1278, 1287, 1321, 1322, 1326, 1360, 1381, 1384, 1394, 1401, 1407, 1408, 1417, 1426, 1434, 1442, 1443, 1444, 1456, 1460, 1471, 1493, 1495, 1499, 1504, 1512, 1549, 1554, 1555, 1560, 1563, 1567, 1574, 1575, 1582, 1604, 1619, 1620, 1623, 1640, 1645, 1657, 1665, 1675, 1679, 1680, 1682, 1693, 1696, 1697, 1708, 1713, 1717, 1731, 1737, 1747, 1750, 1765, 1798, 1799, 1806, 1807, 1816, 1843, 1848, 1850, 1865, 1866, 1875, 1879, 1880, 1882, 1887, 1900, 1907, 1910, 1941, 1947, 1951, 1969, 1972, 1973, 1975, 1983, 1987, 1993, 2004, 2005, 2007, 2008, 2014, 2017, 2019, 2025, 2027, 2044, 2045, 2053, 2054, 2055, 2057, 2064, 2068, 2076, 2077, 2115, 2123, 2126, 2130, 2142, 2150, 2155, 2181, 2182, 2192, 2195, 2203, 2207, 2208, 2210, 2216, 2223, 2230, 2231, 2234, 2242, 2245, 2264, 2265, 2269, 2275, 2291, 2303, 2305, 2310, 2315, 2317, 2318, 2325, 2326, 2342, 2343, 2344, 2358, 2371, 2383, 2384, 2385, 2387, 2389, 2393, 2396, 2399, 2403, 2411, 2412, 2422, 2426, 2427, 2428, 2439, 2440, 2443, 2452, 2454, 2461, 2463, 2465, 2470, 2473, 2484, 2485, 2488, 2490, 2491, 2493, 2494, 2495, 2498, 2514, 2520, 2526, 2531, 2535, 2539, 2543, 2547, 2548, 2552, 2553, 2559, 2562, 2572, 2574, 2576, 2581, 2582, 2594, 2595, 2598, 2625, 2631, 2639, 2645, 2653, 2654, 2658, 2660, 2666, 2674, 2676, 2690, 2694, 2696, 2699, 2703, 2704, 2705, 2716, 2733, 2736, 2739, 2742, 2753, 2758, 2760, 2762, 2767, 2781, 2783, 2784, 2788, 2791, 2794, 2808, 2819, 2820, 2843, 2848, 2857, 2861, 2867, 2868, 2870, 2873, 2884, 2886, 2887, 2890, 2895, 2897, 2899, 2903, 2906, 2914, 2917, 2927, 2928, 2935, 2953, 2957, 2966, 2967, 2978, 2983, 2985, 2987, 2992, 2994, 2999, 3011, 3016, 3018, 3025, 3026, 3027, 3033, 3045, 3049, 3052, 3053, 3056, 3067, 3069, 3071, 3078, 3084, 3090, 3091, 3093, 3095, 3097, 3099, 3105, 3107, 3109, 3112, 3118, 3130, 3132, 3140, 3153, 3154, 3156, 3158, 3171, 3172, 3173, 3179, 3186, 3196, 3197, 3213, 3214, 3230, 3232, 3237, 3240, 3244, 3246, 3257, 3260, 3263, 3264, 3267, 3279, 3281, 3282, 3284, 3286, 3287, 3289, 3293, 3295, 3296, 3302, 3304, 3306, 3314, 3318, 3321, 3330, 3331, 3335, 3337, 3342, 3349, 3356, 3357, 3364, 3365, 3366, 3367, 3368, 3374, 3375, 3387, 3391, 3392, 3393, 3394, 3397, 3404, 3414, 3437, 3452, 3458, 3467, 3472, 3477, 3488, 3489, 3490, 3495, 3501, 3502, 3505, 3509, 3510, 3512, 3514, 3517, 3522, 3532, 3533, 3535, 3546, 3547, 3548, 3559, 3560, 3561, 3569, 3570, 3577, 3579, 3585, 3595, 3601, 3607, 3608, 3613, 3616, 3622, 3623, 3624, 3629, 3637, 3641, 3647, 3653, 3655, 3661, 3662, 3674, 3676, 3678, 3679, 3683, 3685, 3686, 3687, 3689, 3693, 3694, 3699, 3700, 3703, 3704, 3710, 3718, 3719, 3723, 3725, 3737, 3738, 3739, 3740, 3742, 3746, 3747, 3748, 3751, 3753, 3757, 3758, 3763, 3765, 3766, 3775, 3777, 3780, 3785, 3788, 3789, 3792, 3793, 3800, 3802, 3811, 3815, 3816, 3817, 3823, 3831, 3835, 3836, 3839, 3843, 3853, 3860, 3862, 3868, 3870, 3872, 3874, 3876, 3881, 3891, 3892, 3908, 3921, 3923, 3934, 3939, 3941, 3943, 3947, 3952, 3955, 3962, 3967, 3968, 3977, 3986, 3987, 3993, 4004, 4005, 4013, 4016, 4020, 4026, 4030, 4032, 4036, 4037, 4042, 4046, 4052, 4055, 4058, 4062, 4064, 4068, 4070, 4072, 4075, 4078, 4081, 4085, 4088, 4090, 4091, 4092, 4095, 4104, 4108, 4109, 4114, 4118, 4120, 4125, 4129, 4130, 4131, 4132, 4134, 4140, 4145, 4148, 4149, 4150, 4153, 4163, 4164, 4166, 4170, 4171, 4175, 4176, 4177, 4180, 4184, 4185, 4187, 4189, 4190, 4194, 4200, 4210, 4211, 4213, 4215, 4219, 4221, 4222, 4223, 4224, 4229, 4231, 4232, 4234, 4236, 4240, 4241, 4245, 4247, 4251, 4252, 4254, 4258, 4260, 4263, 4266, 4267, 4270, 4272, 4278, 4283, 4285, 4286, 4290, 4292, 4293, 4299, 4304, 4308, 4309, 4311, 4312, 4316, 4317, 4318, 4321, 4324, 4326, 4327, 4332, 4334, 4337, 4338, 4341, 4342, 4344, 4346, 4351, 4353, 4356, 4363, 4369, 4370, 4373, 4374, 4384, 4385, 4392, 4396, 4398, 4399, 4400, 4402, 4407, 4418, 4420, 4421, 4422, 4423, 4426, 4430, 4431, 4432, 4433, 4435, 4437, 4439, 4442, 4452, 4453, 4454, 4457, 4466, 4470, 4473, 4476, 4479, 4480, 4482, 4483, 4488, 4489, 4493, 4494, 4498, 4501, 4503, 4508, 4511, 4512, 4515, 4518, 4521, 4523, 4526, 4528, 4529, 4530, 4534, 4536, 4539, 4540, 4541, 4542, 4545, 4549, 4550, 4552, 4553, 4560, 4561, 4565, 4567, 4569, 4570, 4586, 4591, 4592, 4595, 4600, 4610, 4615, 4617, 4620, 4623, 4624, 4628, 4633, 4634, 4636, 4639, 4642, 4643, 4644, 4648, 4651, 4654, 4655, 4658, 4659, 4660, 4661, 4662, 4666, 4667, 4669, 4674, 4675, 4676, 4678, 4679, 4680, 4681, 4683, 4684, 4690, 4694, 4697, 4698, 4700, 4705, 4707, 4709, 4710, 4716, 4718, 4722, 4726, 4730, 4737, 4739, 4750, 4752, 4753, 4755, 4756, 4758, 4759, 4762, 4766, 4768, 4770, 4772, 4774, 4777, 4780, 4783, 4788, 4789, 4796, 4797, 4798, 4799, 4804, 4806, 4807, 4809, 4814, 4815, 4817, 4819, 4826, 4831, 4832, 4833, 4834, 4835, 4841, 4844, 4845, 4847, 4849, 4851, 4852, 4853, 4854, 4858, 4862, 4864, 4865, 4867, 4874, 4878, 4879, 4888, 4889, 4890, 4892, 4895, 4896, 4897, 4899, 4900, 4901, 4902, 4903, 4905, 4918, 4919, 4923, 4926, 4927, 4929, 4931, 4934, 4935, 4936, 4940, 4942, 4944, 4945, 4948, 4952, 4967, 4968, 4973, 4978, 4985, 4989, 4990, 4992, 4993, 4996, 4999, 5002, 5005, 5006, 5007, 5009, 5010, 5013, 5020, 5021, 5024, 5025, 5028, 5031, 5033, 5035, 5042, 5045, 5046, 5049, 5051, 5055, 5056, 5057, 5060, 5061, 5062, 5066, 5069, 5075, 5076, 5078, 5081, 5083, 5084, 5086, 5087, 5088, 5097, 5098, 5100, 5107, 5109, 5111, 5114, 5115, 5116, 5120, 5127, 5136, 5137, 5139, 5141, 5144, 5145, 5146, 5150, 5153, 5156, 5158, 5160, 5169, 5170, 5174, 5176, 5179, 5183, 5189, 5190, 5192, 5194, 5195, 5196, 5197, 5201, 5202, 5205, 5208, 5209, 5210, 5212, 5215, 5216, 5217, 5218, 5220, 5223, 5224, 5226, 5228, 5229, 5230, 5231, 5232, 5233, 5235, 5237, 5239, 5241, 5244, 5245, 5248, 5250, 5251, 5258, 5259, 5260, 5261, 5264, 5266, 5269, 5273, 5274, 5277, 5278, 5279, 5283, 5286, 5287, 5288, 5290, 5294, 5297, 5298, 5299, 5305, 5306, 5307, 5310, 5311, 5313, 5315, 5316, 5322, 5323, 5327, 5328, 5329, 5332, 5333, 5338, 5339, 5341, 5342, 5343, 5349, 5350, 5354, 5355, 5357, 5358, 5359, 5363, 5364, 5366, 5367, 5369, 5375, 5376, 5378, 5379, 5380, 5381, 5383, 5384, 5386, 5388, 5390, 5392, 5395, 5396, 5397, 5401, 5402, 5403, 5407, 5408, 5411, 5413, 5415, 5418, 5419, 5420, 5422, 5423, 5424, 5425, 5426, 5428, 5429, 5430, 5432, 5433, 5434, 5435, 5436, 5437, 5438, 5439, 5440, 5441, 5442, 5449, 5450, 5451, 5453, 5454, 5457, 5458, 5460, 5461, 5463, 5466, 5468, 5470, 5471, 5474, 5475, 5476, 5477, 5479, 5480, 5481, 5482, 5483, 5484, 5485, 5487, 5489, 5492, 5493, 5494, 5495, 5497, 5499, 5504, 5505, 5506, 5508, 5509, 5510, 5511, 5512, 5513, 5516, 5517, 5520, 5521, 5523, 5524, 5525, 5526, 5527, 5528, 5530, 5532, 5537, 5539, 5540, 5544, 5545, 5546, 5549, 5551, 5552, 5553, 5556, 5558, 5559, 5565, 5568, 5569, 5570, 5571, 5575, 5577, 5578, 5579, 5580, 5584, 5585, 5588, 5590, 5591, 5592, 5593, 5594, 5596, 5599, 5601, 5603, 5604, 5607, 5610, 5611, 5612, 5613, 5617, 5618, 5619, 5620, 5622, 5624, 5625, 5627, 5629, 5630, 5631, 5633, 5635, 5637, 5639, 5640, 5642, 5644, 5645, 5649, 5657, 5659, 5660, 5661, 5662, 5664, 5665, 5666, 5667, 5668, 5671, 5672, 5673, 5675, 5680, 5682, 5685, 5689, 5690, 5692, 5693, 5694, 5695, 5697, 5703, 5704, 5705, 5706, 5710, 5711, 5712, 5713, 5714, 5715, 5716, 5718, 5720, 5722, 5723, 5724, 5725, 5727, 5728, 5729, 5731, 5734, 5736, 5737, 5738, 5739, 5741, 5742, 5744, 5746, 5747, 5752, 5753, 5754, 5756, 5758, 5762, 5766, 5769, 5770, 5773, 5774, 5777, 5778, 5779, 5780, 5781, 5782, 5783, 5784, 5787, 5788, 5789, 5790, 5791, 5792, 5798, 5799, 5800, 5801, 5802, 5806, 5807, 5808, 5811, 5812, 5813, 5814, 5815, 5816, 5820, 5821, 5822, 5825, 5826, 5828, 5829, 5834, 5835, 5836, 5838, 5839, 5842, 5843, 5844, 5845, 5847, 5848, 5849, 5850, 5852, 5854, 5860, 5862, 5864, 5865, 5867, 5868, 5869, 5872, 5874, 5875, 5878, 5883, 5884, 5886, 5891, 5894, 5896, 5899, 5900, 5902, 5906, 5907, 5908, 5918, 5920, 5921, 5922, 5923, 5925, 5927, 5928, 5929, 5931, 5932, 5933, 5935, 5936, 5938, 5942, 5943, 5944, 5946, 5947, 5948, 5950, 5951, 5952, 5955, 5957, 5958, 5959, 5960, 5961, 5962, 5964, 5967, 5968, 5969, 5970, 5974, 5975, 5977, 5978, 5981, 5984, 5985, 5986, 5987, 5988, 5989, 5991, 5992, 5993, 5994, 5995, 5996, 5999, 6001, 6002, 6003, 6004, 6008, 6010, 6012, 6013, 6014, 6016, 6017, 6018, 6019, 6020, 6021, 6022, 6023, 6024, 6025, 6027, 6028, 6029, 6030, 6031, 6032, 6033, 6034, 6035, 6037, 6041, 6044, 6046, 6048, 6049, 6051, 6052, 6054, 6055, 6056, 6057, 6058, 6059, 6060, 6063, 6064, 6065, 6066, 6068, 6069, 6071, 6072, 6073, 6077, 6078, 6079, 6080, 6082, 6084, 6087, 6088, 6089, 6090, 6091, 6092, 6094, 6095, 6097, 6100, 6102, 6103, 6104, 6105, 6106, 6108, 6109, 6111, 6112, 6113, 6114, 6116, 6117, 6119, 6120, 6121, 6122, 6123, 6125, 6126, 6130, 6131, 6132, 6133, 6134, 6135, 6137, 6138, 6139, 6142, 6143, 6144, 6145, 6146, 6148, 6150, 6151, 6154, 6155, 6156, 6157, 6159, 6161, 6163, 6164, 6168, 6170, 6173, 6175, 6177, 6178, 6182, 6183, 6184, 6186, 6188, 6190, 6192, 6193, 6194, 6202, 6203, 6205, 6209, 6211, 6213, 6215, 6220, 6223, 6227, 6229, 6231, 6233, 6234, 6237, 6240, 6248, 6251, 6252, 6253, 6254, 6258, 6259, 6262, 6263, 6264, 6265, 6266, 6269, 6270, 6273, 6276, 6278, 6281, 6282, 6285, 6286, 6287, 6289, 6290, 6293, 6294, 6295, 6296, 6297, 6298, 6299, 6300, 6301]\n"
     ]
    }
   ],
   "source": [
    "filas_inj = shark_cnulos[shark_cnulos['Injury'].str.contains(\"(?i)fatal|remains|bodies|body|death|dead|drowning|drowned|drowing|postmortem|recovered|disappeared\")].index.tolist()\n",
    "\n",
    "print(filas_inj)"
   ]
  },
  {
   "cell_type": "code",
   "execution_count": 888,
   "metadata": {},
   "outputs": [
    {
     "data": {
      "text/html": [
       "<div>\n",
       "<style scoped>\n",
       "    .dataframe tbody tr th:only-of-type {\n",
       "        vertical-align: middle;\n",
       "    }\n",
       "\n",
       "    .dataframe tbody tr th {\n",
       "        vertical-align: top;\n",
       "    }\n",
       "\n",
       "    .dataframe thead th {\n",
       "        text-align: right;\n",
       "    }\n",
       "</style>\n",
       "<table border=\"1\" class=\"dataframe\">\n",
       "  <thead>\n",
       "    <tr style=\"text-align: right;\">\n",
       "      <th></th>\n",
       "      <th>Injury</th>\n",
       "      <th>Fatal (Y/N)</th>\n",
       "    </tr>\n",
       "  </thead>\n",
       "  <tbody>\n",
       "    <tr>\n",
       "      <th>6262</th>\n",
       "      <td>FATAL, foot lacerated &amp; crushed</td>\n",
       "      <td>Y</td>\n",
       "    </tr>\n",
       "    <tr>\n",
       "      <th>6263</th>\n",
       "      <td>FATAL, femoral artery severed, died 12 days la...</td>\n",
       "      <td>Y</td>\n",
       "    </tr>\n",
       "    <tr>\n",
       "      <th>6264</th>\n",
       "      <td>FATAL, fell into water when shark seized his r...</td>\n",
       "      <td>Y</td>\n",
       "    </tr>\n",
       "    <tr>\n",
       "      <th>6265</th>\n",
       "      <td>FATAL, left leg bitten with severe blood loss</td>\n",
       "      <td>Y</td>\n",
       "    </tr>\n",
       "    <tr>\n",
       "      <th>6266</th>\n",
       "      <td>FATAL, died of sepsis</td>\n",
       "      <td>Y</td>\n",
       "    </tr>\n",
       "    <tr>\n",
       "      <th>6269</th>\n",
       "      <td>FATAL</td>\n",
       "      <td>Y</td>\n",
       "    </tr>\n",
       "    <tr>\n",
       "      <th>6273</th>\n",
       "      <td>Fatal x 2</td>\n",
       "      <td>Y</td>\n",
       "    </tr>\n",
       "    <tr>\n",
       "      <th>6276</th>\n",
       "      <td>FATAL</td>\n",
       "      <td>Y</td>\n",
       "    </tr>\n",
       "    <tr>\n",
       "      <th>6278</th>\n",
       "      <td>FATAL</td>\n",
       "      <td>Y</td>\n",
       "    </tr>\n",
       "    <tr>\n",
       "      <th>6281</th>\n",
       "      <td>FATAL, leg severed</td>\n",
       "      <td>Y</td>\n",
       "    </tr>\n",
       "    <tr>\n",
       "      <th>6282</th>\n",
       "      <td>FATAL</td>\n",
       "      <td>Y</td>\n",
       "    </tr>\n",
       "    <tr>\n",
       "      <th>6285</th>\n",
       "      <td>FATAL</td>\n",
       "      <td>Y</td>\n",
       "    </tr>\n",
       "    <tr>\n",
       "      <th>6286</th>\n",
       "      <td>FATAL</td>\n",
       "      <td>Y</td>\n",
       "    </tr>\n",
       "    <tr>\n",
       "      <th>6287</th>\n",
       "      <td>FATAL, 18 people  were killed by sharks, 2 sur...</td>\n",
       "      <td>Y</td>\n",
       "    </tr>\n",
       "    <tr>\n",
       "      <th>6289</th>\n",
       "      <td>FATAL, body not recovered but shark was caught...</td>\n",
       "      <td>Y</td>\n",
       "    </tr>\n",
       "    <tr>\n",
       "      <th>6290</th>\n",
       "      <td>FATAL, leg stripped of flesh</td>\n",
       "      <td>Y</td>\n",
       "    </tr>\n",
       "    <tr>\n",
       "      <th>6293</th>\n",
       "      <td>FATAL, knocked overboard by tail of shark &amp; ca...</td>\n",
       "      <td>Y</td>\n",
       "    </tr>\n",
       "    <tr>\n",
       "      <th>6294</th>\n",
       "      <td>FATAL</td>\n",
       "      <td>Y</td>\n",
       "    </tr>\n",
       "    <tr>\n",
       "      <th>6295</th>\n",
       "      <td>FATAL</td>\n",
       "      <td>Y</td>\n",
       "    </tr>\n",
       "    <tr>\n",
       "      <th>6296</th>\n",
       "      <td>FATAL</td>\n",
       "      <td>Y</td>\n",
       "    </tr>\n",
       "    <tr>\n",
       "      <th>6297</th>\n",
       "      <td>FATAL</td>\n",
       "      <td>Y</td>\n",
       "    </tr>\n",
       "    <tr>\n",
       "      <th>6298</th>\n",
       "      <td>FATAL</td>\n",
       "      <td>Y</td>\n",
       "    </tr>\n",
       "    <tr>\n",
       "      <th>6299</th>\n",
       "      <td>FATAL</td>\n",
       "      <td>Y</td>\n",
       "    </tr>\n",
       "    <tr>\n",
       "      <th>6300</th>\n",
       "      <td>FATAL</td>\n",
       "      <td>Y</td>\n",
       "    </tr>\n",
       "    <tr>\n",
       "      <th>6301</th>\n",
       "      <td>FATAL. \"Shark bit him in half, carrying away t...</td>\n",
       "      <td>Y</td>\n",
       "    </tr>\n",
       "  </tbody>\n",
       "</table>\n",
       "</div>"
      ],
      "text/plain": [
       "                                                 Injury Fatal (Y/N)\n",
       "6262                  FATAL, foot lacerated & crushed             Y\n",
       "6263  FATAL, femoral artery severed, died 12 days la...           Y\n",
       "6264  FATAL, fell into water when shark seized his r...           Y\n",
       "6265      FATAL, left leg bitten with severe blood loss           Y\n",
       "6266                              FATAL, died of sepsis           Y\n",
       "6269                                              FATAL           Y\n",
       "6273                                          Fatal x 2           Y\n",
       "6276                                              FATAL           Y\n",
       "6278                                              FATAL           Y\n",
       "6281                                FATAL, leg severed            Y\n",
       "6282                                              FATAL           Y\n",
       "6285                                              FATAL           Y\n",
       "6286                                              FATAL           Y\n",
       "6287  FATAL, 18 people  were killed by sharks, 2 sur...           Y\n",
       "6289  FATAL, body not recovered but shark was caught...           Y\n",
       "6290                     FATAL, leg stripped of flesh             Y\n",
       "6293  FATAL, knocked overboard by tail of shark & ca...           Y\n",
       "6294                                              FATAL           Y\n",
       "6295                                              FATAL           Y\n",
       "6296                                              FATAL           Y\n",
       "6297                                              FATAL           Y\n",
       "6298                                              FATAL           Y\n",
       "6299                                              FATAL           Y\n",
       "6300                                              FATAL           Y\n",
       "6301  FATAL. \"Shark bit him in half, carrying away t...           Y"
      ]
     },
     "execution_count": 888,
     "metadata": {},
     "output_type": "execute_result"
    }
   ],
   "source": [
    "shark_cnulos.loc[shark_cnulos['Injury'].str.contains(\"(?i)fatal\"), ['Injury', 'Fatal (Y/N)']].tail(25)"
   ]
  },
  {
   "cell_type": "code",
   "execution_count": 889,
   "metadata": {},
   "outputs": [],
   "source": [
    "shark_cnulos.loc[filas_inj, 'Fatal (Y/N)']  = shark_cnulos.loc[filas_inj, 'Fatal (Y/N)'] = 'Y'"
   ]
  },
  {
   "cell_type": "code",
   "execution_count": 890,
   "metadata": {},
   "outputs": [
    {
     "data": {
      "text/html": [
       "<div>\n",
       "<style scoped>\n",
       "    .dataframe tbody tr th:only-of-type {\n",
       "        vertical-align: middle;\n",
       "    }\n",
       "\n",
       "    .dataframe tbody tr th {\n",
       "        vertical-align: top;\n",
       "    }\n",
       "\n",
       "    .dataframe thead th {\n",
       "        text-align: right;\n",
       "    }\n",
       "</style>\n",
       "<table border=\"1\" class=\"dataframe\">\n",
       "  <thead>\n",
       "    <tr style=\"text-align: right;\">\n",
       "      <th></th>\n",
       "      <th>Fatal (Y/N)</th>\n",
       "      <th>Injury</th>\n",
       "    </tr>\n",
       "  </thead>\n",
       "  <tbody>\n",
       "    <tr>\n",
       "      <th>6</th>\n",
       "      <td>Y</td>\n",
       "      <td>FATAL</td>\n",
       "    </tr>\n",
       "    <tr>\n",
       "      <th>13</th>\n",
       "      <td>Y</td>\n",
       "      <td>Injured by teeth of a dead porbeagle shark he ...</td>\n",
       "    </tr>\n",
       "    <tr>\n",
       "      <th>58</th>\n",
       "      <td>Y</td>\n",
       "      <td>FATAL</td>\n",
       "    </tr>\n",
       "    <tr>\n",
       "      <th>59</th>\n",
       "      <td>Y</td>\n",
       "      <td>FATAL</td>\n",
       "    </tr>\n",
       "    <tr>\n",
       "      <th>64</th>\n",
       "      <td>Y</td>\n",
       "      <td>FATAL</td>\n",
       "    </tr>\n",
       "    <tr>\n",
       "      <th>...</th>\n",
       "      <td>...</td>\n",
       "      <td>...</td>\n",
       "    </tr>\n",
       "    <tr>\n",
       "      <th>6297</th>\n",
       "      <td>Y</td>\n",
       "      <td>FATAL</td>\n",
       "    </tr>\n",
       "    <tr>\n",
       "      <th>6298</th>\n",
       "      <td>Y</td>\n",
       "      <td>FATAL</td>\n",
       "    </tr>\n",
       "    <tr>\n",
       "      <th>6299</th>\n",
       "      <td>Y</td>\n",
       "      <td>FATAL</td>\n",
       "    </tr>\n",
       "    <tr>\n",
       "      <th>6300</th>\n",
       "      <td>Y</td>\n",
       "      <td>FATAL</td>\n",
       "    </tr>\n",
       "    <tr>\n",
       "      <th>6301</th>\n",
       "      <td>Y</td>\n",
       "      <td>FATAL. \"Shark bit him in half, carrying away t...</td>\n",
       "    </tr>\n",
       "  </tbody>\n",
       "</table>\n",
       "<p>1698 rows × 2 columns</p>\n",
       "</div>"
      ],
      "text/plain": [
       "     Fatal (Y/N)                                             Injury\n",
       "6              Y                                              FATAL\n",
       "13             Y  Injured by teeth of a dead porbeagle shark he ...\n",
       "58             Y                                              FATAL\n",
       "59             Y                                              FATAL\n",
       "64             Y                                              FATAL\n",
       "...          ...                                                ...\n",
       "6297           Y                                              FATAL\n",
       "6298           Y                                              FATAL\n",
       "6299           Y                                              FATAL\n",
       "6300           Y                                              FATAL\n",
       "6301           Y  FATAL. \"Shark bit him in half, carrying away t...\n",
       "\n",
       "[1698 rows x 2 columns]"
      ]
     },
     "execution_count": 890,
     "metadata": {},
     "output_type": "execute_result"
    }
   ],
   "source": [
    "shark_cnulos.loc[shark_cnulos['Fatal (Y/N)'] == 'Y', ['Fatal (Y/N)', 'Injury']]"
   ]
  },
  {
   "cell_type": "code",
   "execution_count": 891,
   "metadata": {},
   "outputs": [],
   "source": [
    "filas_noinj = shark_cnulos[shark_cnulos['Injury'].str.contains(\"(?i)no injury|injured|minor injury|minor injuries|no attack|survived|abrasions|abrasion|lacerations|laceration|lacerated|wound|tooth marks\")].index.tolist()\n"
   ]
  },
  {
   "cell_type": "code",
   "execution_count": 892,
   "metadata": {},
   "outputs": [],
   "source": [
    "shark_cnulos.loc[filas_noinj, 'Fatal (Y/N)']  = shark_cnulos.loc[filas_noinj, 'Fatal (Y/N)'] = 'N'"
   ]
  },
  {
   "cell_type": "code",
   "execution_count": 893,
   "metadata": {},
   "outputs": [],
   "source": [
    "shark_cnulos['Fatal (Y/N)'].fillna('N/A', inplace=True)"
   ]
  },
  {
   "cell_type": "code",
   "execution_count": 894,
   "metadata": {},
   "outputs": [
    {
     "data": {
      "text/html": [
       "<div>\n",
       "<style scoped>\n",
       "    .dataframe tbody tr th:only-of-type {\n",
       "        vertical-align: middle;\n",
       "    }\n",
       "\n",
       "    .dataframe tbody tr th {\n",
       "        vertical-align: top;\n",
       "    }\n",
       "\n",
       "    .dataframe thead th {\n",
       "        text-align: right;\n",
       "    }\n",
       "</style>\n",
       "<table border=\"1\" class=\"dataframe\">\n",
       "  <thead>\n",
       "    <tr style=\"text-align: right;\">\n",
       "      <th></th>\n",
       "      <th>Fatal (Y/N)</th>\n",
       "      <th>Injury</th>\n",
       "    </tr>\n",
       "  </thead>\n",
       "  <tbody>\n",
       "    <tr>\n",
       "      <th>2083</th>\n",
       "      <td>N/A</td>\n",
       "      <td>Presumed taken by a shark,  but forensic evide...</td>\n",
       "    </tr>\n",
       "    <tr>\n",
       "      <th>2141</th>\n",
       "      <td>N/A</td>\n",
       "      <td>Cut foot, but injury caused by fishing line, n...</td>\n",
       "    </tr>\n",
       "    <tr>\n",
       "      <th>2201</th>\n",
       "      <td>N/A</td>\n",
       "      <td>Missing, thought to have been taken by a shark</td>\n",
       "    </tr>\n",
       "    <tr>\n",
       "      <th>2212</th>\n",
       "      <td>N/A</td>\n",
       "      <td>Ankle bitten, but shark involvement unconfirmed</td>\n",
       "    </tr>\n",
       "    <tr>\n",
       "      <th>2362</th>\n",
       "      <td>N/A</td>\n",
       "      <td>Finger broken when 1.8 m [6'] hooked grey reef...</td>\n",
       "    </tr>\n",
       "    <tr>\n",
       "      <th>2363</th>\n",
       "      <td>N/A</td>\n",
       "      <td>Torso bitten by 4 m [13'] white shark</td>\n",
       "    </tr>\n",
       "    <tr>\n",
       "      <th>2390</th>\n",
       "      <td>N/A</td>\n",
       "      <td>Dorsum of right hand bitten, a probable bluefi...</td>\n",
       "    </tr>\n",
       "    <tr>\n",
       "      <th>2401</th>\n",
       "      <td>N/A</td>\n",
       "      <td>Reportedly lost lower right leg as result of s...</td>\n",
       "    </tr>\n",
       "    <tr>\n",
       "      <th>2410</th>\n",
       "      <td>N/A</td>\n",
       "      <td>Shark scavenged on his corpse</td>\n",
       "    </tr>\n",
       "    <tr>\n",
       "      <th>2542</th>\n",
       "      <td>N/A</td>\n",
       "      <td>No details</td>\n",
       "    </tr>\n",
       "    <tr>\n",
       "      <th>2651</th>\n",
       "      <td>N/A</td>\n",
       "      <td>Swept out to sea, feared taken by shark</td>\n",
       "    </tr>\n",
       "    <tr>\n",
       "      <th>2684</th>\n",
       "      <td>N/A</td>\n",
       "      <td>Doubtful incident, needs investigation</td>\n",
       "    </tr>\n",
       "    <tr>\n",
       "      <th>2695</th>\n",
       "      <td>N/A</td>\n",
       "      <td>Reported by media as shark attack but forensic...</td>\n",
       "    </tr>\n",
       "    <tr>\n",
       "      <th>2845</th>\n",
       "      <td>N/A</td>\n",
       "      <td>Found to be a hoax</td>\n",
       "    </tr>\n",
       "    <tr>\n",
       "      <th>2909</th>\n",
       "      <td>N/A</td>\n",
       "      <td>Coroner determined the man was killed by a boa...</td>\n",
       "    </tr>\n",
       "    <tr>\n",
       "      <th>3080</th>\n",
       "      <td>N/A</td>\n",
       "      <td>Knee bitten</td>\n",
       "    </tr>\n",
       "    <tr>\n",
       "      <th>3148</th>\n",
       "      <td>N/A</td>\n",
       "      <td>Missing, believed taken by a shark</td>\n",
       "    </tr>\n",
       "    <tr>\n",
       "      <th>3162</th>\n",
       "      <td>N/A</td>\n",
       "      <td>Missing, believed taken by a shark, but not co...</td>\n",
       "    </tr>\n",
       "    <tr>\n",
       "      <th>3207</th>\n",
       "      <td>N/A</td>\n",
       "      <td>unknown</td>\n",
       "    </tr>\n",
       "    <tr>\n",
       "      <th>3229</th>\n",
       "      <td>N/A</td>\n",
       "      <td>The press reported this as an attack by a whit...</td>\n",
       "    </tr>\n",
       "    <tr>\n",
       "      <th>3329</th>\n",
       "      <td>N/A</td>\n",
       "      <td>Sharks reportedly bit legs &amp; fins</td>\n",
       "    </tr>\n",
       "    <tr>\n",
       "      <th>3441</th>\n",
       "      <td>N/A</td>\n",
       "      <td>No details</td>\n",
       "    </tr>\n",
       "    <tr>\n",
       "      <th>3457</th>\n",
       "      <td>N/A</td>\n",
       "      <td>unknown</td>\n",
       "    </tr>\n",
       "    <tr>\n",
       "      <th>3491</th>\n",
       "      <td>N/A</td>\n",
       "      <td>unknown</td>\n",
       "    </tr>\n",
       "    <tr>\n",
       "      <th>3523</th>\n",
       "      <td>N/A</td>\n",
       "      <td>Incident not confirmed</td>\n",
       "    </tr>\n",
       "    <tr>\n",
       "      <th>3603</th>\n",
       "      <td>N/A</td>\n",
       "      <td>2 life preservers had been bitten by sharks</td>\n",
       "    </tr>\n",
       "    <tr>\n",
       "      <th>3633</th>\n",
       "      <td>N/A</td>\n",
       "      <td>All 16 onboard perished, recovery efforts hamp...</td>\n",
       "    </tr>\n",
       "    <tr>\n",
       "      <th>3648</th>\n",
       "      <td>N/A</td>\n",
       "      <td>No details</td>\n",
       "    </tr>\n",
       "    <tr>\n",
       "      <th>3901</th>\n",
       "      <td>N/A</td>\n",
       "      <td>Abdomen abraded</td>\n",
       "    </tr>\n",
       "    <tr>\n",
       "      <th>3925</th>\n",
       "      <td>N/A</td>\n",
       "      <td>Considered a doubtful incident</td>\n",
       "    </tr>\n",
       "    <tr>\n",
       "      <th>3958</th>\n",
       "      <td>N/A</td>\n",
       "      <td>Apparently went missing while diving. Helicopt...</td>\n",
       "    </tr>\n",
       "    <tr>\n",
       "      <th>3973</th>\n",
       "      <td>N/A</td>\n",
       "      <td>1  survivor</td>\n",
       "    </tr>\n",
       "    <tr>\n",
       "      <th>4127</th>\n",
       "      <td>N/A</td>\n",
       "      <td>Boat damaged</td>\n",
       "    </tr>\n",
       "    <tr>\n",
       "      <th>4159</th>\n",
       "      <td>N/A</td>\n",
       "      <td>Injuries caused by coral, not the  shark</td>\n",
       "    </tr>\n",
       "    <tr>\n",
       "      <th>4160</th>\n",
       "      <td>N/A</td>\n",
       "      <td>Injuries not caused by sharks</td>\n",
       "    </tr>\n",
       "    <tr>\n",
       "      <th>4313</th>\n",
       "      <td>N/A</td>\n",
       "      <td>Right leg allegedly bitten by a bull shark</td>\n",
       "    </tr>\n",
       "    <tr>\n",
       "      <th>4574</th>\n",
       "      <td>N/A</td>\n",
       "      <td>Shark involvement  unconfirmed</td>\n",
       "    </tr>\n",
       "    <tr>\n",
       "      <th>4645</th>\n",
       "      <td>N/A</td>\n",
       "      <td>When picked up by the USS Boyd DD 44 on 6/23/1...</td>\n",
       "    </tr>\n",
       "    <tr>\n",
       "      <th>4714</th>\n",
       "      <td>N/A</td>\n",
       "      <td>Sharks were numerous &amp; took corpses but made n...</td>\n",
       "    </tr>\n",
       "    <tr>\n",
       "      <th>4779</th>\n",
       "      <td>N/A</td>\n",
       "      <td>No details</td>\n",
       "    </tr>\n",
       "    <tr>\n",
       "      <th>4781</th>\n",
       "      <td>N/A</td>\n",
       "      <td>Leg bitten</td>\n",
       "    </tr>\n",
       "    <tr>\n",
       "      <th>4910</th>\n",
       "      <td>N/A</td>\n",
       "      <td>Captive tiger shark regurgitated his arm in th...</td>\n",
       "    </tr>\n",
       "    <tr>\n",
       "      <th>5089</th>\n",
       "      <td>N/A</td>\n",
       "      <td>Later found to be fiction, never happened</td>\n",
       "    </tr>\n",
       "    <tr>\n",
       "      <th>5104</th>\n",
       "      <td>N/A</td>\n",
       "      <td>No details</td>\n",
       "    </tr>\n",
       "    <tr>\n",
       "      <th>5166</th>\n",
       "      <td>N/A</td>\n",
       "      <td>Human arm found in shark</td>\n",
       "    </tr>\n",
       "    <tr>\n",
       "      <th>5246</th>\n",
       "      <td>N/A</td>\n",
       "      <td>Buttons &amp; shoes found in shark caught in fish ...</td>\n",
       "    </tr>\n",
       "    <tr>\n",
       "      <th>5324</th>\n",
       "      <td>N/A</td>\n",
       "      <td>Shark involvement not confirmed</td>\n",
       "    </tr>\n",
       "    <tr>\n",
       "      <th>5356</th>\n",
       "      <td>N/A</td>\n",
       "      <td>Human casualties</td>\n",
       "    </tr>\n",
       "    <tr>\n",
       "      <th>5370</th>\n",
       "      <td>N/A</td>\n",
       "      <td>unknown</td>\n",
       "    </tr>\n",
       "    <tr>\n",
       "      <th>5500</th>\n",
       "      <td>N/A</td>\n",
       "      <td>Thought to have been taken by a shark</td>\n",
       "    </tr>\n",
       "    <tr>\n",
       "      <th>5501</th>\n",
       "      <td>N/A</td>\n",
       "      <td>Reported to have been killed by a shark but 2 ...</td>\n",
       "    </tr>\n",
       "    <tr>\n",
       "      <th>5514</th>\n",
       "      <td>N/A</td>\n",
       "      <td>Leg bitten</td>\n",
       "    </tr>\n",
       "    <tr>\n",
       "      <th>5547</th>\n",
       "      <td>N/A</td>\n",
       "      <td>unknown</td>\n",
       "    </tr>\n",
       "    <tr>\n",
       "      <th>5597</th>\n",
       "      <td>N/A</td>\n",
       "      <td>Unknown</td>\n",
       "    </tr>\n",
       "    <tr>\n",
       "      <th>5757</th>\n",
       "      <td>N/A</td>\n",
       "      <td>Left leg severed. Probably confusion with GSAF...</td>\n",
       "    </tr>\n",
       "    <tr>\n",
       "      <th>5776</th>\n",
       "      <td>N/A</td>\n",
       "      <td>Unclear if he sustained any injury from the 7'...</td>\n",
       "    </tr>\n",
       "    <tr>\n",
       "      <th>5805</th>\n",
       "      <td>N/A</td>\n",
       "      <td>Shark involvement suspected but not confirmed</td>\n",
       "    </tr>\n",
       "    <tr>\n",
       "      <th>5876</th>\n",
       "      <td>N/A</td>\n",
       "      <td>Forehead bitten</td>\n",
       "    </tr>\n",
       "    <tr>\n",
       "      <th>5965</th>\n",
       "      <td>N/A</td>\n",
       "      <td>unknown</td>\n",
       "    </tr>\n",
       "    <tr>\n",
       "      <th>6158</th>\n",
       "      <td>N/A</td>\n",
       "      <td>Struck on thigh</td>\n",
       "    </tr>\n",
       "  </tbody>\n",
       "</table>\n",
       "</div>"
      ],
      "text/plain": [
       "     Fatal (Y/N)                                             Injury\n",
       "2083         N/A  Presumed taken by a shark,  but forensic evide...\n",
       "2141         N/A  Cut foot, but injury caused by fishing line, n...\n",
       "2201         N/A     Missing, thought to have been taken by a shark\n",
       "2212         N/A    Ankle bitten, but shark involvement unconfirmed\n",
       "2362         N/A  Finger broken when 1.8 m [6'] hooked grey reef...\n",
       "2363         N/A              Torso bitten by 4 m [13'] white shark\n",
       "2390         N/A  Dorsum of right hand bitten, a probable bluefi...\n",
       "2401         N/A  Reportedly lost lower right leg as result of s...\n",
       "2410         N/A                      Shark scavenged on his corpse\n",
       "2542         N/A                                         No details\n",
       "2651         N/A            Swept out to sea, feared taken by shark\n",
       "2684         N/A             Doubtful incident, needs investigation\n",
       "2695         N/A  Reported by media as shark attack but forensic...\n",
       "2845         N/A                                 Found to be a hoax\n",
       "2909         N/A  Coroner determined the man was killed by a boa...\n",
       "3080         N/A                                        Knee bitten\n",
       "3148         N/A                 Missing, believed taken by a shark\n",
       "3162         N/A  Missing, believed taken by a shark, but not co...\n",
       "3207         N/A                                            unknown\n",
       "3229         N/A  The press reported this as an attack by a whit...\n",
       "3329         N/A                 Sharks reportedly bit legs & fins \n",
       "3441         N/A                                         No details\n",
       "3457         N/A                                            unknown\n",
       "3491         N/A                                            unknown\n",
       "3523         N/A                             Incident not confirmed\n",
       "3603         N/A        2 life preservers had been bitten by sharks\n",
       "3633         N/A  All 16 onboard perished, recovery efforts hamp...\n",
       "3648         N/A                                         No details\n",
       "3901         N/A                                    Abdomen abraded\n",
       "3925         N/A                     Considered a doubtful incident\n",
       "3958         N/A  Apparently went missing while diving. Helicopt...\n",
       "3973         N/A                                        1  survivor\n",
       "4127         N/A                                       Boat damaged\n",
       "4159         N/A           Injuries caused by coral, not the  shark\n",
       "4160         N/A                      Injuries not caused by sharks\n",
       "4313         N/A         Right leg allegedly bitten by a bull shark\n",
       "4574         N/A                     Shark involvement  unconfirmed\n",
       "4645         N/A  When picked up by the USS Boyd DD 44 on 6/23/1...\n",
       "4714         N/A  Sharks were numerous & took corpses but made n...\n",
       "4779         N/A                                         No details\n",
       "4781         N/A                                         Leg bitten\n",
       "4910         N/A  Captive tiger shark regurgitated his arm in th...\n",
       "5089         N/A          Later found to be fiction, never happened\n",
       "5104         N/A                                         No details\n",
       "5166         N/A                           Human arm found in shark\n",
       "5246         N/A  Buttons & shoes found in shark caught in fish ...\n",
       "5324         N/A                    Shark involvement not confirmed\n",
       "5356         N/A                                   Human casualties\n",
       "5370         N/A                                            unknown\n",
       "5500         N/A              Thought to have been taken by a shark\n",
       "5501         N/A  Reported to have been killed by a shark but 2 ...\n",
       "5514         N/A                                         Leg bitten\n",
       "5547         N/A                                            unknown\n",
       "5597         N/A                                            Unknown\n",
       "5757         N/A  Left leg severed. Probably confusion with GSAF...\n",
       "5776         N/A  Unclear if he sustained any injury from the 7'...\n",
       "5805         N/A      Shark involvement suspected but not confirmed\n",
       "5876         N/A                                    Forehead bitten\n",
       "5965         N/A                                            unknown\n",
       "6158         N/A                                    Struck on thigh"
      ]
     },
     "execution_count": 894,
     "metadata": {},
     "output_type": "execute_result"
    }
   ],
   "source": [
    "shark_cnulos.loc[shark_cnulos['Fatal (Y/N)'] == 'N/A', ['Fatal (Y/N)', 'Injury']].tail(60)"
   ]
  },
  {
   "cell_type": "code",
   "execution_count": 895,
   "metadata": {},
   "outputs": [
    {
     "data": {
      "text/plain": [
       "array(['N', 'Y', 'N/A', 'UNKNOWN', ' N', 1836], dtype=object)"
      ]
     },
     "execution_count": 895,
     "metadata": {},
     "output_type": "execute_result"
    }
   ],
   "source": [
    "shark_cnulos['Fatal (Y/N)'].unique()"
   ]
  },
  {
   "cell_type": "code",
   "execution_count": 896,
   "metadata": {},
   "outputs": [
    {
     "data": {
      "text/html": [
       "<div>\n",
       "<style scoped>\n",
       "    .dataframe tbody tr th:only-of-type {\n",
       "        vertical-align: middle;\n",
       "    }\n",
       "\n",
       "    .dataframe tbody tr th {\n",
       "        vertical-align: top;\n",
       "    }\n",
       "\n",
       "    .dataframe thead th {\n",
       "        text-align: right;\n",
       "    }\n",
       "</style>\n",
       "<table border=\"1\" class=\"dataframe\">\n",
       "  <thead>\n",
       "    <tr style=\"text-align: right;\">\n",
       "      <th></th>\n",
       "      <th>Date</th>\n",
       "      <th>Country</th>\n",
       "      <th>Fatal (Y/N)</th>\n",
       "      <th>Injury</th>\n",
       "    </tr>\n",
       "  </thead>\n",
       "  <tbody>\n",
       "    <tr>\n",
       "      <th>Year</th>\n",
       "      <td>1836</td>\n",
       "      <td>1836</td>\n",
       "      <td>1836</td>\n",
       "      <td>1836</td>\n",
       "    </tr>\n",
       "  </tbody>\n",
       "</table>\n",
       "</div>"
      ],
      "text/plain": [
       "      Date Country Fatal (Y/N) Injury\n",
       "Year  1836    1836        1836   1836"
      ]
     },
     "execution_count": 896,
     "metadata": {},
     "output_type": "execute_result"
    }
   ],
   "source": [
    "shark_cnulos.loc[shark_cnulos['Fatal (Y/N)'] == 1836, ['Date', 'Country', 'Fatal (Y/N)', 'Injury']]"
   ]
  },
  {
   "cell_type": "code",
   "execution_count": 897,
   "metadata": {},
   "outputs": [],
   "source": [
    "shark_cnulos = shark_cnulos.drop(index='Year')"
   ]
  },
  {
   "cell_type": "code",
   "execution_count": 898,
   "metadata": {},
   "outputs": [
    {
     "name": "stdout",
     "output_type": "stream",
     "text": [
      "Country            50\n",
      "Area              455\n",
      "Location          540\n",
      "Activity          544\n",
      "Sex               565\n",
      "Age              2831\n",
      "Time             3354\n",
      "Case Number.1       1\n",
      "Case Number.2       1\n",
      "dtype: int64\n"
     ]
    }
   ],
   "source": [
    "nulitos(shark_cnulos)"
   ]
  },
  {
   "attachments": {},
   "cell_type": "markdown",
   "metadata": {},
   "source": [
    "Vamos con 'Sex'."
   ]
  },
  {
   "cell_type": "code",
   "execution_count": 904,
   "metadata": {},
   "outputs": [
    {
     "data": {
      "text/plain": [
       "array(['F', 'M', nan, 'M ', 'lli', 'N', '.'], dtype=object)"
      ]
     },
     "execution_count": 904,
     "metadata": {},
     "output_type": "execute_result"
    }
   ],
   "source": [
    "shark_cnulos['Sex'].unique()"
   ]
  },
  {
   "cell_type": "code",
   "execution_count": 917,
   "metadata": {},
   "outputs": [
    {
     "data": {
      "text/html": [
       "<div>\n",
       "<style scoped>\n",
       "    .dataframe tbody tr th:only-of-type {\n",
       "        vertical-align: middle;\n",
       "    }\n",
       "\n",
       "    .dataframe tbody tr th {\n",
       "        vertical-align: top;\n",
       "    }\n",
       "\n",
       "    .dataframe thead th {\n",
       "        text-align: right;\n",
       "    }\n",
       "</style>\n",
       "<table border=\"1\" class=\"dataframe\">\n",
       "  <thead>\n",
       "    <tr style=\"text-align: right;\">\n",
       "      <th></th>\n",
       "      <th>Name</th>\n",
       "      <th>Activity</th>\n",
       "      <th>Sex</th>\n",
       "      <th>Injury</th>\n",
       "    </tr>\n",
       "  </thead>\n",
       "  <tbody>\n",
       "    <tr>\n",
       "      <th>32</th>\n",
       "      <td>unknown</td>\n",
       "      <td>Windsurfing</td>\n",
       "      <td>NaN</td>\n",
       "      <td>No injury, shark bit board</td>\n",
       "    </tr>\n",
       "    <tr>\n",
       "      <th>59</th>\n",
       "      <td>31 migrants</td>\n",
       "      <td>2 boats capsized</td>\n",
       "      <td>NaN</td>\n",
       "      <td>FATAL</td>\n",
       "    </tr>\n",
       "    <tr>\n",
       "      <th>86</th>\n",
       "      <td>unknown</td>\n",
       "      <td>Fishing</td>\n",
       "      <td>NaN</td>\n",
       "      <td>sharks rammed boats, no injury to occupants</td>\n",
       "    </tr>\n",
       "    <tr>\n",
       "      <th>124</th>\n",
       "      <td>unknown</td>\n",
       "      <td>Fishing</td>\n",
       "      <td>NaN</td>\n",
       "      <td>Skull found in shark, a probable drowning &amp; sc...</td>\n",
       "    </tr>\n",
       "    <tr>\n",
       "      <th>154</th>\n",
       "      <td>unknown</td>\n",
       "      <td>unknown</td>\n",
       "      <td>NaN</td>\n",
       "      <td>Minor bite to the foot</td>\n",
       "    </tr>\n",
       "    <tr>\n",
       "      <th>...</th>\n",
       "      <td>...</td>\n",
       "      <td>...</td>\n",
       "      <td>...</td>\n",
       "      <td>...</td>\n",
       "    </tr>\n",
       "    <tr>\n",
       "      <th>6212</th>\n",
       "      <td>4.8-metre skiboat, Occupants: Rod Salm &amp; 4 fri...</td>\n",
       "      <td>Fishing</td>\n",
       "      <td>NaN</td>\n",
       "      <td>No injury to occupants, shark bumped boat</td>\n",
       "    </tr>\n",
       "    <tr>\n",
       "      <th>6237</th>\n",
       "      <td>unknown</td>\n",
       "      <td>Swimming</td>\n",
       "      <td>NaN</td>\n",
       "      <td>Recovered</td>\n",
       "    </tr>\n",
       "    <tr>\n",
       "      <th>6259</th>\n",
       "      <td>C.</td>\n",
       "      <td>A group of survivors on a raft for 17-days</td>\n",
       "      <td>NaN</td>\n",
       "      <td>FATAL, shark leapt into raft and bit the man w...</td>\n",
       "    </tr>\n",
       "    <tr>\n",
       "      <th>6278</th>\n",
       "      <td>unknown</td>\n",
       "      <td>Swimming</td>\n",
       "      <td>NaN</td>\n",
       "      <td>FATAL</td>\n",
       "    </tr>\n",
       "    <tr>\n",
       "      <th>6287</th>\n",
       "      <td>20 Fijians</td>\n",
       "      <td>Wreck of  large double sailing canoe</td>\n",
       "      <td>NaN</td>\n",
       "      <td>FATAL, 18 people  were killed by sharks, 2 sur...</td>\n",
       "    </tr>\n",
       "  </tbody>\n",
       "</table>\n",
       "<p>565 rows × 4 columns</p>\n",
       "</div>"
      ],
      "text/plain": [
       "                                                   Name   \n",
       "32                                              unknown  \\\n",
       "59                                          31 migrants   \n",
       "86                                              unknown   \n",
       "124                                             unknown   \n",
       "154                                             unknown   \n",
       "...                                                 ...   \n",
       "6212  4.8-metre skiboat, Occupants: Rod Salm & 4 fri...   \n",
       "6237                                            unknown   \n",
       "6259                                                 C.   \n",
       "6278                                            unknown   \n",
       "6287                                         20 Fijians   \n",
       "\n",
       "                                        Activity  Sex   \n",
       "32                                   Windsurfing  NaN  \\\n",
       "59                              2 boats capsized  NaN   \n",
       "86                                       Fishing  NaN   \n",
       "124                                      Fishing  NaN   \n",
       "154                                      unknown  NaN   \n",
       "...                                          ...  ...   \n",
       "6212                                     Fishing  NaN   \n",
       "6237                                    Swimming  NaN   \n",
       "6259  A group of survivors on a raft for 17-days  NaN   \n",
       "6278                                    Swimming  NaN   \n",
       "6287        Wreck of  large double sailing canoe  NaN   \n",
       "\n",
       "                                                 Injury  \n",
       "32                           No injury, shark bit board  \n",
       "59                                                FATAL  \n",
       "86          sharks rammed boats, no injury to occupants  \n",
       "124   Skull found in shark, a probable drowning & sc...  \n",
       "154                              Minor bite to the foot  \n",
       "...                                                 ...  \n",
       "6212          No injury to occupants, shark bumped boat  \n",
       "6237                                          Recovered  \n",
       "6259  FATAL, shark leapt into raft and bit the man w...  \n",
       "6278                                              FATAL  \n",
       "6287  FATAL, 18 people  were killed by sharks, 2 sur...  \n",
       "\n",
       "[565 rows x 4 columns]"
      ]
     },
     "execution_count": 917,
     "metadata": {},
     "output_type": "execute_result"
    }
   ],
   "source": [
    "shark_cnulos.loc[shark_cnulos['Sex'].isnull(), ['Name', 'Activity', 'Sex', 'Injury']]"
   ]
  },
  {
   "cell_type": "code",
   "execution_count": 918,
   "metadata": {},
   "outputs": [],
   "source": [
    "shark_cnulos['Fatal (Y/N)'].fillna('N/A', inplace=True)"
   ]
  },
  {
   "cell_type": "code",
   "execution_count": null,
   "metadata": {},
   "outputs": [],
   "source": []
  },
  {
   "cell_type": "code",
   "execution_count": 906,
   "metadata": {},
   "outputs": [
    {
     "data": {
      "text/html": [
       "<div>\n",
       "<style scoped>\n",
       "    .dataframe tbody tr th:only-of-type {\n",
       "        vertical-align: middle;\n",
       "    }\n",
       "\n",
       "    .dataframe tbody tr th {\n",
       "        vertical-align: top;\n",
       "    }\n",
       "\n",
       "    .dataframe thead th {\n",
       "        text-align: right;\n",
       "    }\n",
       "</style>\n",
       "<table border=\"1\" class=\"dataframe\">\n",
       "  <thead>\n",
       "    <tr style=\"text-align: right;\">\n",
       "      <th></th>\n",
       "      <th>Name</th>\n",
       "      <th>Activity</th>\n",
       "      <th>Sex</th>\n",
       "      <th>Injury</th>\n",
       "    </tr>\n",
       "  </thead>\n",
       "  <tbody>\n",
       "    <tr>\n",
       "      <th>1624</th>\n",
       "      <td>Brian Kang</td>\n",
       "      <td>Surfing</td>\n",
       "      <td>lli</td>\n",
       "      <td>Lacerations to hand, knee &amp; thigh</td>\n",
       "    </tr>\n",
       "  </tbody>\n",
       "</table>\n",
       "</div>"
      ],
      "text/plain": [
       "            Name Activity  Sex                              Injury\n",
       "1624  Brian Kang  Surfing  lli  Lacerations to hand, knee & thigh "
      ]
     },
     "execution_count": 906,
     "metadata": {},
     "output_type": "execute_result"
    }
   ],
   "source": [
    "shark_cnulos.loc[shark_cnulos['Sex'] == 'lli', ['Name', 'Activity', 'Sex', 'Injury']]"
   ]
  },
  {
   "cell_type": "code",
   "execution_count": 907,
   "metadata": {},
   "outputs": [],
   "source": [
    "shark_cnulos.loc[1624, 'Sex'] = shark_cnulos.loc[1624, 'Sex'] = 'M'"
   ]
  },
  {
   "cell_type": "code",
   "execution_count": 908,
   "metadata": {},
   "outputs": [
    {
     "data": {
      "text/html": [
       "<div>\n",
       "<style scoped>\n",
       "    .dataframe tbody tr th:only-of-type {\n",
       "        vertical-align: middle;\n",
       "    }\n",
       "\n",
       "    .dataframe tbody tr th {\n",
       "        vertical-align: top;\n",
       "    }\n",
       "\n",
       "    .dataframe thead th {\n",
       "        text-align: right;\n",
       "    }\n",
       "</style>\n",
       "<table border=\"1\" class=\"dataframe\">\n",
       "  <thead>\n",
       "    <tr style=\"text-align: right;\">\n",
       "      <th></th>\n",
       "      <th>Name</th>\n",
       "      <th>Activity</th>\n",
       "      <th>Sex</th>\n",
       "      <th>Injury</th>\n",
       "    </tr>\n",
       "  </thead>\n",
       "  <tbody>\n",
       "    <tr>\n",
       "      <th>4938</th>\n",
       "      <td>18' boat, occupants William &amp; Leslie Newton</td>\n",
       "      <td>Fishing</td>\n",
       "      <td>N</td>\n",
       "      <td>No injury to occupants Sharks continually foll...</td>\n",
       "    </tr>\n",
       "    <tr>\n",
       "      <th>6131</th>\n",
       "      <td>Stephen Pettigew</td>\n",
       "      <td>Standing on landed shark's tail</td>\n",
       "      <td>N</td>\n",
       "      <td>FATAL, PROVOKED INCIDENT</td>\n",
       "    </tr>\n",
       "  </tbody>\n",
       "</table>\n",
       "</div>"
      ],
      "text/plain": [
       "                                             Name   \n",
       "4938  18' boat, occupants William & Leslie Newton  \\\n",
       "6131                             Stephen Pettigew   \n",
       "\n",
       "                             Activity Sex   \n",
       "4938                          Fishing   N  \\\n",
       "6131  Standing on landed shark's tail   N   \n",
       "\n",
       "                                                 Injury  \n",
       "4938  No injury to occupants Sharks continually foll...  \n",
       "6131                           FATAL, PROVOKED INCIDENT  "
      ]
     },
     "execution_count": 908,
     "metadata": {},
     "output_type": "execute_result"
    }
   ],
   "source": [
    "shark_cnulos.loc[shark_cnulos['Sex'] == 'N', ['Name', 'Activity', 'Sex', 'Injury']]"
   ]
  },
  {
   "cell_type": "code",
   "execution_count": 912,
   "metadata": {},
   "outputs": [],
   "source": [
    "shark_cnulos.loc[4938, 'Sex'] = shark_cnulos.loc[4938, 'Sex'] = ['N/A']"
   ]
  },
  {
   "cell_type": "code",
   "execution_count": 913,
   "metadata": {},
   "outputs": [],
   "source": [
    "shark_cnulos.loc[6131, 'Sex'] = shark_cnulos.loc[6131, 'Sex'] = ['M']"
   ]
  },
  {
   "cell_type": "code",
   "execution_count": 914,
   "metadata": {},
   "outputs": [
    {
     "data": {
      "text/html": [
       "<div>\n",
       "<style scoped>\n",
       "    .dataframe tbody tr th:only-of-type {\n",
       "        vertical-align: middle;\n",
       "    }\n",
       "\n",
       "    .dataframe tbody tr th {\n",
       "        vertical-align: top;\n",
       "    }\n",
       "\n",
       "    .dataframe thead th {\n",
       "        text-align: right;\n",
       "    }\n",
       "</style>\n",
       "<table border=\"1\" class=\"dataframe\">\n",
       "  <thead>\n",
       "    <tr style=\"text-align: right;\">\n",
       "      <th></th>\n",
       "      <th>Name</th>\n",
       "      <th>Activity</th>\n",
       "      <th>Sex</th>\n",
       "      <th>Injury</th>\n",
       "    </tr>\n",
       "  </thead>\n",
       "  <tbody>\n",
       "    <tr>\n",
       "      <th>5437</th>\n",
       "      <td>unknown</td>\n",
       "      <td>.</td>\n",
       "      <td>.</td>\n",
       "      <td>Remains of 3 humans recovered from shark, but ...</td>\n",
       "    </tr>\n",
       "  </tbody>\n",
       "</table>\n",
       "</div>"
      ],
      "text/plain": [
       "         Name Activity Sex                                             Injury\n",
       "5437  unknown        .   .  Remains of 3 humans recovered from shark, but ..."
      ]
     },
     "execution_count": 914,
     "metadata": {},
     "output_type": "execute_result"
    }
   ],
   "source": [
    "shark_cnulos.loc[shark_cnulos['Sex'] == '.', ['Name', 'Activity', 'Sex', 'Injury']]"
   ]
  },
  {
   "cell_type": "code",
   "execution_count": 915,
   "metadata": {},
   "outputs": [],
   "source": [
    "shark_cnulos.loc[5437, 'Sex'] = shark_cnulos.loc[5437, 'Sex'] = ['N/A']"
   ]
  },
  {
   "cell_type": "code",
   "execution_count": null,
   "metadata": {},
   "outputs": [],
   "source": []
  }
 ],
 "metadata": {
  "kernelspec": {
   "display_name": "Python 3",
   "language": "python",
   "name": "python3"
  },
  "language_info": {
   "codemirror_mode": {
    "name": "ipython",
    "version": 3
   },
   "file_extension": ".py",
   "mimetype": "text/x-python",
   "name": "python",
   "nbconvert_exporter": "python",
   "pygments_lexer": "ipython3",
   "version": "3.11.3"
  },
  "orig_nbformat": 4
 },
 "nbformat": 4,
 "nbformat_minor": 2
}
